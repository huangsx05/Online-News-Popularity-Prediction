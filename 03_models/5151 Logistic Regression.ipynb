{
 "cells": [
  {
   "cell_type": "code",
   "execution_count": 1,
   "metadata": {},
   "outputs": [],
   "source": [
    "import pandas as pd\n",
    "import numpy as np\n",
    "import matplotlib.pyplot as plt\n",
    "import seaborn as sns\n",
    "import warnings\n",
    "warnings.filterwarnings('ignore')\n",
    "from sklearn.metrics import classification_report\n",
    "from sklearn.metrics import roc_auc_score, accuracy_score\n",
    "from sklearn.inspection import permutation_importance"
   ]
  },
  {
   "cell_type": "markdown",
   "metadata": {},
   "source": [
    "## Import Data"
   ]
  },
  {
   "cell_type": "code",
   "execution_count": 2,
   "metadata": {},
   "outputs": [
    {
     "data": {
      "text/html": [
       "<div>\n",
       "<style scoped>\n",
       "    .dataframe tbody tr th:only-of-type {\n",
       "        vertical-align: middle;\n",
       "    }\n",
       "\n",
       "    .dataframe tbody tr th {\n",
       "        vertical-align: top;\n",
       "    }\n",
       "\n",
       "    .dataframe thead th {\n",
       "        text-align: right;\n",
       "    }\n",
       "</style>\n",
       "<table border=\"1\" class=\"dataframe\">\n",
       "  <thead>\n",
       "    <tr style=\"text-align: right;\">\n",
       "      <th></th>\n",
       "      <th>url</th>\n",
       "      <th>timedelta</th>\n",
       "      <th>n_tokens_title</th>\n",
       "      <th>n_tokens_content</th>\n",
       "      <th>n_unique_tokens</th>\n",
       "      <th>n_non_stop_words</th>\n",
       "      <th>n_non_stop_unique_tokens</th>\n",
       "      <th>num_hrefs</th>\n",
       "      <th>num_self_hrefs</th>\n",
       "      <th>num_imgs</th>\n",
       "      <th>...</th>\n",
       "      <th>min_positive_polarity</th>\n",
       "      <th>max_positive_polarity</th>\n",
       "      <th>avg_negative_polarity</th>\n",
       "      <th>min_negative_polarity</th>\n",
       "      <th>max_negative_polarity</th>\n",
       "      <th>title_subjectivity</th>\n",
       "      <th>title_sentiment_polarity</th>\n",
       "      <th>abs_title_subjectivity</th>\n",
       "      <th>abs_title_sentiment_polarity</th>\n",
       "      <th>shares</th>\n",
       "    </tr>\n",
       "  </thead>\n",
       "  <tbody>\n",
       "    <tr>\n",
       "      <th>0</th>\n",
       "      <td>http://mashable.com/2013/01/07/amazon-instant-...</td>\n",
       "      <td>731.0</td>\n",
       "      <td>12.0</td>\n",
       "      <td>219.0</td>\n",
       "      <td>0.663594</td>\n",
       "      <td>1.0</td>\n",
       "      <td>0.815385</td>\n",
       "      <td>4.0</td>\n",
       "      <td>2.0</td>\n",
       "      <td>1.0</td>\n",
       "      <td>...</td>\n",
       "      <td>0.100000</td>\n",
       "      <td>0.7</td>\n",
       "      <td>-0.350000</td>\n",
       "      <td>-0.600</td>\n",
       "      <td>-0.200000</td>\n",
       "      <td>0.500000</td>\n",
       "      <td>-0.187500</td>\n",
       "      <td>0.000000</td>\n",
       "      <td>0.187500</td>\n",
       "      <td>593</td>\n",
       "    </tr>\n",
       "    <tr>\n",
       "      <th>1</th>\n",
       "      <td>http://mashable.com/2013/01/07/ap-samsung-spon...</td>\n",
       "      <td>731.0</td>\n",
       "      <td>9.0</td>\n",
       "      <td>255.0</td>\n",
       "      <td>0.604743</td>\n",
       "      <td>1.0</td>\n",
       "      <td>0.791946</td>\n",
       "      <td>3.0</td>\n",
       "      <td>1.0</td>\n",
       "      <td>1.0</td>\n",
       "      <td>...</td>\n",
       "      <td>0.033333</td>\n",
       "      <td>0.7</td>\n",
       "      <td>-0.118750</td>\n",
       "      <td>-0.125</td>\n",
       "      <td>-0.100000</td>\n",
       "      <td>0.000000</td>\n",
       "      <td>0.000000</td>\n",
       "      <td>0.500000</td>\n",
       "      <td>0.000000</td>\n",
       "      <td>711</td>\n",
       "    </tr>\n",
       "    <tr>\n",
       "      <th>2</th>\n",
       "      <td>http://mashable.com/2013/01/07/apple-40-billio...</td>\n",
       "      <td>731.0</td>\n",
       "      <td>9.0</td>\n",
       "      <td>211.0</td>\n",
       "      <td>0.575130</td>\n",
       "      <td>1.0</td>\n",
       "      <td>0.663866</td>\n",
       "      <td>3.0</td>\n",
       "      <td>1.0</td>\n",
       "      <td>1.0</td>\n",
       "      <td>...</td>\n",
       "      <td>0.100000</td>\n",
       "      <td>1.0</td>\n",
       "      <td>-0.466667</td>\n",
       "      <td>-0.800</td>\n",
       "      <td>-0.133333</td>\n",
       "      <td>0.000000</td>\n",
       "      <td>0.000000</td>\n",
       "      <td>0.500000</td>\n",
       "      <td>0.000000</td>\n",
       "      <td>1500</td>\n",
       "    </tr>\n",
       "    <tr>\n",
       "      <th>3</th>\n",
       "      <td>http://mashable.com/2013/01/07/astronaut-notre...</td>\n",
       "      <td>731.0</td>\n",
       "      <td>9.0</td>\n",
       "      <td>531.0</td>\n",
       "      <td>0.503788</td>\n",
       "      <td>1.0</td>\n",
       "      <td>0.665635</td>\n",
       "      <td>9.0</td>\n",
       "      <td>0.0</td>\n",
       "      <td>1.0</td>\n",
       "      <td>...</td>\n",
       "      <td>0.136364</td>\n",
       "      <td>0.8</td>\n",
       "      <td>-0.369697</td>\n",
       "      <td>-0.600</td>\n",
       "      <td>-0.166667</td>\n",
       "      <td>0.000000</td>\n",
       "      <td>0.000000</td>\n",
       "      <td>0.500000</td>\n",
       "      <td>0.000000</td>\n",
       "      <td>1200</td>\n",
       "    </tr>\n",
       "    <tr>\n",
       "      <th>4</th>\n",
       "      <td>http://mashable.com/2013/01/07/att-u-verse-apps/</td>\n",
       "      <td>731.0</td>\n",
       "      <td>13.0</td>\n",
       "      <td>1072.0</td>\n",
       "      <td>0.415646</td>\n",
       "      <td>1.0</td>\n",
       "      <td>0.540890</td>\n",
       "      <td>19.0</td>\n",
       "      <td>19.0</td>\n",
       "      <td>20.0</td>\n",
       "      <td>...</td>\n",
       "      <td>0.033333</td>\n",
       "      <td>1.0</td>\n",
       "      <td>-0.220192</td>\n",
       "      <td>-0.500</td>\n",
       "      <td>-0.050000</td>\n",
       "      <td>0.454545</td>\n",
       "      <td>0.136364</td>\n",
       "      <td>0.045455</td>\n",
       "      <td>0.136364</td>\n",
       "      <td>505</td>\n",
       "    </tr>\n",
       "  </tbody>\n",
       "</table>\n",
       "<p>5 rows × 61 columns</p>\n",
       "</div>"
      ],
      "text/plain": [
       "                                                 url   timedelta  \\\n",
       "0  http://mashable.com/2013/01/07/amazon-instant-...       731.0   \n",
       "1  http://mashable.com/2013/01/07/ap-samsung-spon...       731.0   \n",
       "2  http://mashable.com/2013/01/07/apple-40-billio...       731.0   \n",
       "3  http://mashable.com/2013/01/07/astronaut-notre...       731.0   \n",
       "4   http://mashable.com/2013/01/07/att-u-verse-apps/       731.0   \n",
       "\n",
       "    n_tokens_title   n_tokens_content   n_unique_tokens   n_non_stop_words  \\\n",
       "0             12.0              219.0          0.663594                1.0   \n",
       "1              9.0              255.0          0.604743                1.0   \n",
       "2              9.0              211.0          0.575130                1.0   \n",
       "3              9.0              531.0          0.503788                1.0   \n",
       "4             13.0             1072.0          0.415646                1.0   \n",
       "\n",
       "    n_non_stop_unique_tokens   num_hrefs   num_self_hrefs   num_imgs  ...  \\\n",
       "0                   0.815385         4.0              2.0        1.0  ...   \n",
       "1                   0.791946         3.0              1.0        1.0  ...   \n",
       "2                   0.663866         3.0              1.0        1.0  ...   \n",
       "3                   0.665635         9.0              0.0        1.0  ...   \n",
       "4                   0.540890        19.0             19.0       20.0  ...   \n",
       "\n",
       "    min_positive_polarity   max_positive_polarity   avg_negative_polarity  \\\n",
       "0                0.100000                     0.7               -0.350000   \n",
       "1                0.033333                     0.7               -0.118750   \n",
       "2                0.100000                     1.0               -0.466667   \n",
       "3                0.136364                     0.8               -0.369697   \n",
       "4                0.033333                     1.0               -0.220192   \n",
       "\n",
       "    min_negative_polarity   max_negative_polarity   title_subjectivity  \\\n",
       "0                  -0.600               -0.200000             0.500000   \n",
       "1                  -0.125               -0.100000             0.000000   \n",
       "2                  -0.800               -0.133333             0.000000   \n",
       "3                  -0.600               -0.166667             0.000000   \n",
       "4                  -0.500               -0.050000             0.454545   \n",
       "\n",
       "    title_sentiment_polarity   abs_title_subjectivity  \\\n",
       "0                  -0.187500                 0.000000   \n",
       "1                   0.000000                 0.500000   \n",
       "2                   0.000000                 0.500000   \n",
       "3                   0.000000                 0.500000   \n",
       "4                   0.136364                 0.045455   \n",
       "\n",
       "    abs_title_sentiment_polarity   shares  \n",
       "0                       0.187500      593  \n",
       "1                       0.000000      711  \n",
       "2                       0.000000     1500  \n",
       "3                       0.000000     1200  \n",
       "4                       0.136364      505  \n",
       "\n",
       "[5 rows x 61 columns]"
      ]
     },
     "execution_count": 2,
     "metadata": {},
     "output_type": "execute_result"
    }
   ],
   "source": [
    "datafile = 'OnlineNewsPopularity.csv'\n",
    "df = pd.read_csv(datafile)\n",
    "df.head()"
   ]
  },
  {
   "cell_type": "markdown",
   "metadata": {},
   "source": [
    "## Class Labels - 4 Classes"
   ]
  },
  {
   "cell_type": "code",
   "execution_count": 3,
   "metadata": {},
   "outputs": [],
   "source": [
    "# N=4\n",
    "df['class_N4'] = 0\n",
    "df.loc[(df[' shares']>=1050) & (df[' shares']<2350), 'class_N4'] = 1\n",
    "df.loc[(df[' shares']>=2350) & (df[' shares']<7550), 'class_N4'] = 2\n",
    "df.loc[df[' shares']>=7550, 'class_N4'] = 3"
   ]
  },
  {
   "cell_type": "markdown",
   "metadata": {},
   "source": [
    "## Feature Engineering"
   ]
  },
  {
   "cell_type": "code",
   "execution_count": 4,
   "metadata": {},
   "outputs": [],
   "source": [
    "df.columns = df.columns.str.replace(' ', '')\n",
    "df.loc[:,'No_word'] = df.n_tokens_content.apply(lambda x: 1 if x==0 else 0)\n",
    "topic_list = list(df.columns[df.columns.str.contains('LDA')])\n",
    "all_below_point3 = list(df[topic_list][df[topic_list]<0.3].dropna().index)\n",
    "df.loc[all_below_point3, 'all_topic'] = 1\n",
    "df ['all_topic']= df['all_topic'].fillna(0)"
   ]
  },
  {
   "cell_type": "markdown",
   "metadata": {},
   "source": [
    "## Data Cleaning and Data Transformation"
   ]
  },
  {
   "cell_type": "code",
   "execution_count": 5,
   "metadata": {},
   "outputs": [
    {
     "name": "stdout",
     "output_type": "stream",
     "text": [
      "n_unique_tokens\n",
      "n_non_stop_words\n",
      "n_non_stop_unique_tokens\n"
     ]
    }
   ],
   "source": [
    "#outlier (>1) in var “n_unique_tokens”, “n_non_stop_words”, and “n_non_stop_unique_tokens”, \n",
    "#which might be due to typing error. We will remove that observation.\n",
    "col_list = [4,5,6]\n",
    "for col in col_list:\n",
    "    print(df.columns[col])\n",
    "    df = df[df[df.columns[col]]<1]"
   ]
  },
  {
   "cell_type": "code",
   "execution_count": 6,
   "metadata": {},
   "outputs": [
    {
     "name": "stdout",
     "output_type": "stream",
     "text": [
      "average_token_length\n",
      "kw_max_min\n",
      "global_subjectivity\n",
      "global_sentiment_polarity\n",
      "global_rate_positive_words\n",
      "rate_positive_words\n",
      "rate_negative_words\n",
      "avg_positive_polarity\n",
      "avg_negative_polarity\n"
     ]
    }
   ],
   "source": [
    "#Missing values are very troubling in this data set because they are coded as 0. \n",
    "#So you have to judge if the 0 are missing or real data. By check the distributions, \n",
    "#we found around 3000 observations with missing values in 9 different variables. \n",
    "#We will remove all cases with missing values.\n",
    "col_list = [11,20,44,45,46,48,49,50,53]\n",
    "for col in col_list:\n",
    "    print(df.columns[col])\n",
    "    df = df[df[df.columns[col]]!=0]"
   ]
  },
  {
   "cell_type": "code",
   "execution_count": 7,
   "metadata": {},
   "outputs": [
    {
     "name": "stdout",
     "output_type": "stream",
     "text": [
      "n_tokens_content\n",
      "num_hrefs\n",
      "num_self_hrefs\n",
      "num_imgs\n",
      "num_videos\n",
      "kw_min_max\n",
      "kw_max_avg\n",
      "kw_avg_avg\n",
      "self_reference_min_shares\n",
      "self_reference_max_shares\n",
      "self_reference_avg_sharess\n",
      "LDA_00\n",
      "LDA_01\n",
      "LDA_02\n",
      "LDA_03\n",
      "LDA_04\n",
      "global_rate_negative_words\n",
      "shares\n"
     ]
    }
   ],
   "source": [
    "#treat skewed data. \n",
    "#for those variables with all values bigger than 0, use log\n",
    "#and other variable with 0, use square root.\n",
    "\n",
    "col_list = [3,7,8,9,10,22,26,27,28,29,30,39,40,41,42,43,47,60] ######\n",
    "for col in col_list:\n",
    "    print(df.columns[col])\n",
    "    if np.min(df[df.columns[col]]) > 0:\n",
    "        col_name = 'log_'+df.columns[col]\n",
    "        df[df.columns[col]] = np.log(df[df.columns[col]])\n",
    "    else:\n",
    "        col_name = 'sqrt_'+df.columns[col]\n",
    "        df[df.columns[col]] = np.sqrt(df[df.columns[col]])   \n",
    "    if df.columns[col] != ' shares':\n",
    "        df.rename(columns={df.columns[col]:col_name}, inplace=True)\n"
   ]
  },
  {
   "cell_type": "markdown",
   "metadata": {},
   "source": [
    "## Logistic Regression Model\n",
    "### First Round Optimization"
   ]
  },
  {
   "cell_type": "code",
   "execution_count": 8,
   "metadata": {},
   "outputs": [],
   "source": [
    "target = 'class_N4'\n",
    "\n",
    "\n",
    "\n",
    "features = ['sqrt_num_hrefs',  \n",
    "            'sqrt_num_self_hrefs', \n",
    "            'average_token_length', \n",
    "            'log_kw_max_avg', \n",
    "            'log_kw_avg_avg', \n",
    "            'weekday_is_tuesday', \n",
    "            'weekday_is_friday',  \n",
    "            'is_weekend', \n",
    "            'log_LDA_00', \n",
    "            'log_LDA_01',\n",
    "            'log_LDA_02', \n",
    "            'log_LDA_03', \n",
    "            'log_LDA_04', \n",
    "            'global_subjectivity', \n",
    "            'global_sentiment_polarity', \n",
    "            'global_rate_positive_words',\n",
    "            'log_global_rate_negative_words', \n",
    "            'rate_positive_words', \n",
    "            'avg_positive_polarity', \n",
    "            'avg_negative_polarity', \n",
    "            'title_subjectivity', \n",
    "            'title_sentiment_polarity', \n",
    "            \n",
    "            'all_topic', \n",
    "            'No_word',\n",
    "            \n",
    "            'n_unique_tokens', \n",
    "            'sqrt_self_reference_min_shares', \n",
    "           ]\n",
    "\n",
    "seed = 2021\n",
    "test_size = 0.2 "
   ]
  },
  {
   "cell_type": "code",
   "execution_count": 9,
   "metadata": {},
   "outputs": [],
   "source": [
    "from sklearn.model_selection import train_test_split\n",
    "from sklearn.model_selection import StratifiedKFold\n",
    "\n",
    "df_X = df[features]\n",
    "df_y = df[target]\n",
    "\n",
    "X_train, X_test, y_train, y_test = train_test_split(df_X,\n",
    "                                                    df_y,\n",
    "                                                    test_size=test_size,\n",
    "                                                    random_state=seed,\n",
    "                                                    stratify=df_y)\n",
    "\n",
    "kf = StratifiedKFold(n_splits=5, shuffle=False)"
   ]
  },
  {
   "cell_type": "code",
   "execution_count": 10,
   "metadata": {},
   "outputs": [],
   "source": [
    "from sklearn.preprocessing import MinMaxScaler\n",
    "scaler = MinMaxScaler()\n",
    "scaler.fit(X_train)\n",
    "X_train = scaler.transform(X_train)\n",
    "X_test = scaler.transform(X_test)\n"
   ]
  },
  {
   "cell_type": "code",
   "execution_count": 11,
   "metadata": {},
   "outputs": [
    {
     "name": "stdout",
     "output_type": "stream",
     "text": [
      "0.43864364726558464\n",
      "0.44314266023432114\n",
      "best estimator LogisticRegression(l1_ratio=0.01, penalty='elasticnet', solver='saga')\n"
     ]
    }
   ],
   "source": [
    "from sklearn.linear_model import LogisticRegression\n",
    "from sklearn.model_selection import GridSearchCV\n",
    "\n",
    "lr = LogisticRegression(l1_ratio=0.1,penalty='elasticnet',solver='saga')\n",
    "lr.fit(X_train, y_train)\n",
    "print(lr.score(X_train, y_train))\n",
    "print(lr.score(X_test, y_test))\n",
    "\n",
    "\n",
    "param = {'l1_ratio':[0,0.001,0.01,0.1,1]}\n",
    "lr = LogisticRegression(penalty='elasticnet',solver='saga')\n",
    "best_lr=GridSearchCV(estimator=lr, param_grid=param, cv=10)\n",
    "best_lr.fit(X_train, y_train)\n",
    "print('best estimator',best_lr.best_estimator_)"
   ]
  },
  {
   "cell_type": "code",
   "execution_count": 35,
   "metadata": {},
   "outputs": [
    {
     "data": {
      "text/plain": [
       "Text(0.5, 1.0, 'Logistic Regaression Features (averaged over store predictions)')"
      ]
     },
     "execution_count": 35,
     "metadata": {},
     "output_type": "execute_result"
    },
    {
     "data": {
      "image/png": "[encoded data removed]",
      "text/plain": [
       "<Figure size 432x1008 with 1 Axes>"
      ]
     },
     "metadata": {
      "needs_background": "light"
     },
     "output_type": "display_data"
    }
   ],
   "source": [
    "lr=LogisticRegression(l1_ratio=0.01, penalty='elasticnet', solver='saga')\n",
    "lr.fit(X_train, y_train)\n",
    "plt.figure(figsize=(6, 14))\n",
    "\n",
    "imp_lr = permutation_importance(lr, X=X_train, y=y_train, scoring='accuracy',random_state=seed).importances_mean\n",
    "feature_importance_df=pd.DataFrame(index=df_X.columns,data=imp_lr,columns=['feature_importance'])\n",
    "feature_importance_df=feature_importance_df.sort_values('feature_importance',ascending=False)\n",
    "\n",
    "sns.barplot(x=\"feature_importance\", y=feature_importance_df.index, data=feature_importance_df)\n",
    "plt.title('Logistic Regaression Features (averaged over store predictions)')\n",
    "\n"
   ]
  },
  {
   "cell_type": "code",
   "execution_count": 24,
   "metadata": {},
   "outputs": [
    {
     "data": {
      "text/html": [
       "<div>\n",
       "<style scoped>\n",
       "    .dataframe tbody tr th:only-of-type {\n",
       "        vertical-align: middle;\n",
       "    }\n",
       "\n",
       "    .dataframe tbody tr th {\n",
       "        vertical-align: top;\n",
       "    }\n",
       "\n",
       "    .dataframe thead th {\n",
       "        text-align: right;\n",
       "    }\n",
       "</style>\n",
       "<table border=\"1\" class=\"dataframe\">\n",
       "  <thead>\n",
       "    <tr style=\"text-align: right;\">\n",
       "      <th></th>\n",
       "      <th>feature_importance</th>\n",
       "      <th>features</th>\n",
       "    </tr>\n",
       "  </thead>\n",
       "  <tbody>\n",
       "    <tr>\n",
       "      <th>log_kw_avg_avg</th>\n",
       "      <td>2.250939e-02</td>\n",
       "      <td>2.250939e-02</td>\n",
       "    </tr>\n",
       "    <tr>\n",
       "      <th>log_LDA_04</th>\n",
       "      <td>1.924257e-02</td>\n",
       "      <td>1.924257e-02</td>\n",
       "    </tr>\n",
       "    <tr>\n",
       "      <th>is_weekend</th>\n",
       "      <td>1.870499e-02</td>\n",
       "      <td>1.870499e-02</td>\n",
       "    </tr>\n",
       "    <tr>\n",
       "      <th>log_LDA_00</th>\n",
       "      <td>6.402702e-03</td>\n",
       "      <td>6.402702e-03</td>\n",
       "    </tr>\n",
       "    <tr>\n",
       "      <th>sqrt_self_reference_min_shares</th>\n",
       "      <td>4.789965e-03</td>\n",
       "      <td>4.789965e-03</td>\n",
       "    </tr>\n",
       "    <tr>\n",
       "      <th>sqrt_num_hrefs</th>\n",
       "      <td>2.894655e-03</td>\n",
       "      <td>2.894655e-03</td>\n",
       "    </tr>\n",
       "    <tr>\n",
       "      <th>log_LDA_01</th>\n",
       "      <td>2.584514e-03</td>\n",
       "      <td>2.584514e-03</td>\n",
       "    </tr>\n",
       "    <tr>\n",
       "      <th>weekday_is_friday</th>\n",
       "      <td>2.377753e-03</td>\n",
       "      <td>2.377753e-03</td>\n",
       "    </tr>\n",
       "    <tr>\n",
       "      <th>n_unique_tokens</th>\n",
       "      <td>1.667873e-03</td>\n",
       "      <td>1.667873e-03</td>\n",
       "    </tr>\n",
       "    <tr>\n",
       "      <th>log_kw_max_avg</th>\n",
       "      <td>-1.468004e-03</td>\n",
       "      <td>1.468004e-03</td>\n",
       "    </tr>\n",
       "    <tr>\n",
       "      <th>avg_positive_polarity</th>\n",
       "      <td>-9.304249e-04</td>\n",
       "      <td>9.304249e-04</td>\n",
       "    </tr>\n",
       "    <tr>\n",
       "      <th>log_LDA_02</th>\n",
       "      <td>8.752886e-04</td>\n",
       "      <td>8.752886e-04</td>\n",
       "    </tr>\n",
       "    <tr>\n",
       "      <th>average_token_length</th>\n",
       "      <td>-7.581240e-04</td>\n",
       "      <td>7.581240e-04</td>\n",
       "    </tr>\n",
       "    <tr>\n",
       "      <th>title_subjectivity</th>\n",
       "      <td>-5.996072e-04</td>\n",
       "      <td>5.996072e-04</td>\n",
       "    </tr>\n",
       "    <tr>\n",
       "      <th>log_LDA_03</th>\n",
       "      <td>-5.858231e-04</td>\n",
       "      <td>5.858231e-04</td>\n",
       "    </tr>\n",
       "    <tr>\n",
       "      <th>rate_positive_words</th>\n",
       "      <td>-5.513629e-04</td>\n",
       "      <td>5.513629e-04</td>\n",
       "    </tr>\n",
       "    <tr>\n",
       "      <th>global_subjectivity</th>\n",
       "      <td>-5.513629e-04</td>\n",
       "      <td>5.513629e-04</td>\n",
       "    </tr>\n",
       "    <tr>\n",
       "      <th>global_rate_positive_words</th>\n",
       "      <td>5.100107e-04</td>\n",
       "      <td>5.100107e-04</td>\n",
       "    </tr>\n",
       "    <tr>\n",
       "      <th>avg_negative_polarity</th>\n",
       "      <td>-5.031186e-04</td>\n",
       "      <td>5.031186e-04</td>\n",
       "    </tr>\n",
       "    <tr>\n",
       "      <th>title_sentiment_polarity</th>\n",
       "      <td>-3.997381e-04</td>\n",
       "      <td>3.997381e-04</td>\n",
       "    </tr>\n",
       "    <tr>\n",
       "      <th>global_sentiment_polarity</th>\n",
       "      <td>-3.446018e-04</td>\n",
       "      <td>3.446018e-04</td>\n",
       "    </tr>\n",
       "    <tr>\n",
       "      <th>sqrt_num_self_hrefs</th>\n",
       "      <td>-3.446018e-04</td>\n",
       "      <td>3.446018e-04</td>\n",
       "    </tr>\n",
       "    <tr>\n",
       "      <th>weekday_is_tuesday</th>\n",
       "      <td>2.205452e-04</td>\n",
       "      <td>2.205452e-04</td>\n",
       "    </tr>\n",
       "    <tr>\n",
       "      <th>log_global_rate_negative_words</th>\n",
       "      <td>-1.723009e-04</td>\n",
       "      <td>1.723009e-04</td>\n",
       "    </tr>\n",
       "    <tr>\n",
       "      <th>all_topic</th>\n",
       "      <td>-2.220446e-17</td>\n",
       "      <td>2.220446e-17</td>\n",
       "    </tr>\n",
       "    <tr>\n",
       "      <th>No_word</th>\n",
       "      <td>0.000000e+00</td>\n",
       "      <td>0.000000e+00</td>\n",
       "    </tr>\n",
       "  </tbody>\n",
       "</table>\n",
       "</div>"
      ],
      "text/plain": [
       "                                feature_importance      features\n",
       "log_kw_avg_avg                        2.250939e-02  2.250939e-02\n",
       "log_LDA_04                            1.924257e-02  1.924257e-02\n",
       "is_weekend                            1.870499e-02  1.870499e-02\n",
       "log_LDA_00                            6.402702e-03  6.402702e-03\n",
       "sqrt_self_reference_min_shares        4.789965e-03  4.789965e-03\n",
       "sqrt_num_hrefs                        2.894655e-03  2.894655e-03\n",
       "log_LDA_01                            2.584514e-03  2.584514e-03\n",
       "weekday_is_friday                     2.377753e-03  2.377753e-03\n",
       "n_unique_tokens                       1.667873e-03  1.667873e-03\n",
       "log_kw_max_avg                       -1.468004e-03  1.468004e-03\n",
       "avg_positive_polarity                -9.304249e-04  9.304249e-04\n",
       "log_LDA_02                            8.752886e-04  8.752886e-04\n",
       "average_token_length                 -7.581240e-04  7.581240e-04\n",
       "title_subjectivity                   -5.996072e-04  5.996072e-04\n",
       "log_LDA_03                           -5.858231e-04  5.858231e-04\n",
       "rate_positive_words                  -5.513629e-04  5.513629e-04\n",
       "global_subjectivity                  -5.513629e-04  5.513629e-04\n",
       "global_rate_positive_words            5.100107e-04  5.100107e-04\n",
       "avg_negative_polarity                -5.031186e-04  5.031186e-04\n",
       "title_sentiment_polarity             -3.997381e-04  3.997381e-04\n",
       "global_sentiment_polarity            -3.446018e-04  3.446018e-04\n",
       "sqrt_num_self_hrefs                  -3.446018e-04  3.446018e-04\n",
       "weekday_is_tuesday                    2.205452e-04  2.205452e-04\n",
       "log_global_rate_negative_words       -1.723009e-04  1.723009e-04\n",
       "all_topic                            -2.220446e-17  2.220446e-17\n",
       "No_word                               0.000000e+00  0.000000e+00"
      ]
     },
     "execution_count": 24,
     "metadata": {},
     "output_type": "execute_result"
    }
   ],
   "source": [
    "feature_importance_df['features']=abs(feature_importance_df['feature_importance'])\n",
    "feature_importance_df=feature_importance_df.sort_values('features',ascending=False)\n",
    "feature_importance_df"
   ]
  },
  {
   "cell_type": "code",
   "execution_count": 25,
   "metadata": {},
   "outputs": [
    {
     "name": "stdout",
     "output_type": "stream",
     "text": [
      "number of features:  14\n",
      "['log_kw_avg_avg', 'log_LDA_04', 'is_weekend', 'log_LDA_00', 'sqrt_self_reference_min_shares', 'sqrt_num_hrefs', 'log_LDA_01', 'weekday_is_friday', 'avg_positive_polarity', 'log_LDA_02', 'average_token_length', 'title_subjectivity', 'title_sentiment_polarity', 'weekday_is_tuesday']\n",
      "[0.3940730530668504, 0.4046864231564438, 0.42095106822880773, 0.4268780151619573, 0.4304617505168849, 0.43818056512749826, 0.44024810475534115, 0.4405237767057202, 0.44079944865609927, 0.442315644383184, 0.44383184011026877, 0.4445210199862164, 0.44548587181254307, 0.4461750516884907]\n",
      "[4, 12, 7, 8, 25, 0, 9, 6, 18, 10, 2, 20, 21, 5]\n"
     ]
    }
   ],
   "source": [
    "\n",
    "feature_0 = feature_importance_df.index[0]\n",
    "\n",
    "index=[list(df_X.columns).index(feature_0)]\n",
    "\n",
    "lr.fit(X_train[:,index], y_train)\n",
    "\n",
    "\n",
    "score_0 = accuracy_score(y_test, lr.predict(X_test[:,index]))\n",
    "\n",
    "features = [feature_0]\n",
    "scores = [score_0]\n",
    "\n",
    "for feature in feature_importance_df.index[1:]:\n",
    "    index_temp=[list(df_X.columns).index(feature)]\n",
    "#     features_temp = features.copy()\n",
    "    index_temp=index+index_temp\n",
    "#     print(index_temp)\n",
    "    \n",
    "    lr.fit(X_train[:,index_temp], y_train)\n",
    "    score = accuracy_score(y_test, lr.predict(X_test[:,index_temp]))\n",
    "    if score > max(scores):\n",
    "        features.append(feature)\n",
    "        scores.append(score)\n",
    "        index=index_temp\n",
    "print('number of features: ', len(features))\n",
    "print(features)\n",
    "print(scores)\n",
    "print(index)\n"
   ]
  },
  {
   "cell_type": "code",
   "execution_count": 26,
   "metadata": {},
   "outputs": [
    {
     "data": {
      "text/plain": [
       "Text(0, 0.5, 'accuracy score')"
      ]
     },
     "execution_count": 26,
     "metadata": {},
     "output_type": "execute_result"
    },
    {
     "data": {
      "image/png": "[encoded data removed]",
      "text/plain": [
       "<Figure size 1152x576 with 1 Axes>"
      ]
     },
     "metadata": {
      "needs_background": "light"
     },
     "output_type": "display_data"
    }
   ],
   "source": [
    "fig, ax = plt.subplots(figsize=(16, 8))\n",
    "ax.plot(range(len(features)), scores, marker = '.', markersize = 20)\n",
    "ax.set_title(\"Accuracy Scores vs Features\", fontsize=18)\n",
    "ax.set_xticks(range(len(features)))\n",
    "ax.set_xticklabels(features,rotation=90)\n",
    "ax.set_xlabel(\"added feature\", fontsize=18)\n",
    "ax.set_ylabel(\"accuracy score\", fontsize=18)"
   ]
  },
  {
   "cell_type": "code",
   "execution_count": 27,
   "metadata": {},
   "outputs": [
    {
     "name": "stdout",
     "output_type": "stream",
     "text": [
      "0.43736862055894415\n",
      "0.44645072363886973\n",
      "best estimator LogisticRegression(l1_ratio=0, penalty='elasticnet', solver='saga')\n"
     ]
    }
   ],
   "source": [
    "lr_adjust = LogisticRegression(l1_ratio=0.1,penalty='elasticnet',solver='saga')\n",
    "lr_adjust.fit(X_train[:,index], y_train)\n",
    "print(lr_adjust.score(X_train[:,index], y_train))\n",
    "print(lr_adjust.score(X_test[:,index], y_test))\n",
    "\n",
    "\n",
    "param = {'l1_ratio':[0,0.001,0.01,0.1,1]}\n",
    "lr_adjust = LogisticRegression(penalty='elasticnet',solver='saga',random_state=seed)\n",
    "best_lr_adjust=GridSearchCV(estimator=lr, param_grid=param, cv=10)\n",
    "best_lr_adjust.fit(X_train[:,index], y_train)\n",
    "print('best estimator',best_lr.best_estimator_)"
   ]
  },
  {
   "cell_type": "code",
   "execution_count": 34,
   "metadata": {},
   "outputs": [
    {
     "data": {
      "text/plain": [
       "Text(0.5, 1.0, 'Logistic Regaression Features (averaged over store predictions)')"
      ]
     },
     "execution_count": 34,
     "metadata": {},
     "output_type": "execute_result"
    },
    {
     "data": {
      "image/png": "[encoded data removed]",
      "text/plain": [
       "<Figure size 432x1008 with 1 Axes>"
      ]
     },
     "metadata": {
      "needs_background": "light"
     },
     "output_type": "display_data"
    }
   ],
   "source": [
    "lr_adjust= LogisticRegression(l1_ratio=0, penalty='elasticnet', solver='saga',random_state=seed)\n",
    "lr_adjust.fit(X_train[:,index], y_train)\n",
    "plt.figure(figsize=(6, 14))\n",
    "\n",
    "imp_lr = permutation_importance(lr_adjust, X=X_train[:,index], y=y_train, scoring='accuracy',random_state=seed).importances_mean\n",
    "feature_importance_df=pd.DataFrame(index=df_X.columns[index],data=imp_lr,columns=['feature_importance'])\n",
    "feature_importance_df=feature_importance_df.sort_values('feature_importance',ascending=False)\n",
    "\n",
    "sns.barplot(x=\"feature_importance\", y=feature_importance_df.index, data=feature_importance_df)\n",
    "plt.title('Logistic Regaression Features (averaged over store predictions)')"
   ]
  },
  {
   "cell_type": "code",
   "execution_count": 33,
   "metadata": {},
   "outputs": [
    {
     "name": "stdout",
     "output_type": "stream",
     "text": [
      "              precision    recall  f1-score   support\n",
      "\n",
      "           0       0.50      0.49      0.49      2252\n",
      "           1       0.42      0.71      0.53      2829\n",
      "           2       0.42      0.07      0.12      1599\n",
      "           3       0.36      0.02      0.04       575\n",
      "\n",
      "    accuracy                           0.45      7255\n",
      "   macro avg       0.43      0.32      0.30      7255\n",
      "weighted avg       0.44      0.45      0.39      7255\n",
      "\n",
      "roc_auc_score 0.6511766823644244\n",
      "accuracy_score 0.4460372157133012\n"
     ]
    }
   ],
   "source": [
    "y_pred=lr_adjust.predict(X_test[:,index])\n",
    "lr_report = classification_report(y_test, y_pred)\n",
    "auc = roc_auc_score(y_test, lr_adjust.predict_proba(X_test[:,index]), multi_class='ovr')\n",
    "accuracy = accuracy_score(y_test, y_pred)\n",
    "print(lr_report)\n",
    "print('roc_auc_score',auc)\n",
    "print('accuracy_score',accuracy)"
   ]
  },
  {
   "cell_type": "code",
   "execution_count": null,
   "metadata": {},
   "outputs": [],
   "source": []
  }
 ],
 "metadata": {
  "kernelspec": {
   "display_name": "Python 3",
   "language": "python",
   "name": "python3"
  },
  "language_info": {
   "codemirror_mode": {
    "name": "ipython",
    "version": 3
   },
   "file_extension": ".py",
   "mimetype": "text/x-python",
   "name": "python",
   "nbconvert_exporter": "python",
   "pygments_lexer": "ipython3",
   "version": "3.6.13"
  }
 },
 "nbformat": 4,
 "nbformat_minor": 4
}
