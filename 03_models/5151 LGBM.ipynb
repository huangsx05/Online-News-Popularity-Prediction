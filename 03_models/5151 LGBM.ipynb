{
 "cells": [
  {
   "cell_type": "code",
   "execution_count": 1,
   "metadata": {},
   "outputs": [],
   "source": [
    "import pandas as pd\n",
    "import numpy as np\n",
    "import matplotlib.pyplot as plt\n",
    "import seaborn as sns\n",
    "import warnings\n",
    "warnings.filterwarnings('ignore')"
   ]
  },
  {
   "cell_type": "markdown",
   "metadata": {},
   "source": [
    "## Import Data"
   ]
  },
  {
   "cell_type": "code",
   "execution_count": 2,
   "metadata": {},
   "outputs": [
    {
     "data": {
      "text/html": [
       "<div>\n",
       "<style scoped>\n",
       "    .dataframe tbody tr th:only-of-type {\n",
       "        vertical-align: middle;\n",
       "    }\n",
       "\n",
       "    .dataframe tbody tr th {\n",
       "        vertical-align: top;\n",
       "    }\n",
       "\n",
       "    .dataframe thead th {\n",
       "        text-align: right;\n",
       "    }\n",
       "</style>\n",
       "<table border=\"1\" class=\"dataframe\">\n",
       "  <thead>\n",
       "    <tr style=\"text-align: right;\">\n",
       "      <th></th>\n",
       "      <th>url</th>\n",
       "      <th>timedelta</th>\n",
       "      <th>n_tokens_title</th>\n",
       "      <th>n_tokens_content</th>\n",
       "      <th>n_unique_tokens</th>\n",
       "      <th>n_non_stop_words</th>\n",
       "      <th>n_non_stop_unique_tokens</th>\n",
       "      <th>num_hrefs</th>\n",
       "      <th>num_self_hrefs</th>\n",
       "      <th>num_imgs</th>\n",
       "      <th>...</th>\n",
       "      <th>min_positive_polarity</th>\n",
       "      <th>max_positive_polarity</th>\n",
       "      <th>avg_negative_polarity</th>\n",
       "      <th>min_negative_polarity</th>\n",
       "      <th>max_negative_polarity</th>\n",
       "      <th>title_subjectivity</th>\n",
       "      <th>title_sentiment_polarity</th>\n",
       "      <th>abs_title_subjectivity</th>\n",
       "      <th>abs_title_sentiment_polarity</th>\n",
       "      <th>shares</th>\n",
       "    </tr>\n",
       "  </thead>\n",
       "  <tbody>\n",
       "    <tr>\n",
       "      <th>0</th>\n",
       "      <td>http://mashable.com/2013/01/07/amazon-instant-...</td>\n",
       "      <td>731.0</td>\n",
       "      <td>12.0</td>\n",
       "      <td>219.0</td>\n",
       "      <td>0.663594</td>\n",
       "      <td>1.0</td>\n",
       "      <td>0.815385</td>\n",
       "      <td>4.0</td>\n",
       "      <td>2.0</td>\n",
       "      <td>1.0</td>\n",
       "      <td>...</td>\n",
       "      <td>0.100000</td>\n",
       "      <td>0.7</td>\n",
       "      <td>-0.350000</td>\n",
       "      <td>-0.600</td>\n",
       "      <td>-0.200000</td>\n",
       "      <td>0.500000</td>\n",
       "      <td>-0.187500</td>\n",
       "      <td>0.000000</td>\n",
       "      <td>0.187500</td>\n",
       "      <td>593</td>\n",
       "    </tr>\n",
       "    <tr>\n",
       "      <th>1</th>\n",
       "      <td>http://mashable.com/2013/01/07/ap-samsung-spon...</td>\n",
       "      <td>731.0</td>\n",
       "      <td>9.0</td>\n",
       "      <td>255.0</td>\n",
       "      <td>0.604743</td>\n",
       "      <td>1.0</td>\n",
       "      <td>0.791946</td>\n",
       "      <td>3.0</td>\n",
       "      <td>1.0</td>\n",
       "      <td>1.0</td>\n",
       "      <td>...</td>\n",
       "      <td>0.033333</td>\n",
       "      <td>0.7</td>\n",
       "      <td>-0.118750</td>\n",
       "      <td>-0.125</td>\n",
       "      <td>-0.100000</td>\n",
       "      <td>0.000000</td>\n",
       "      <td>0.000000</td>\n",
       "      <td>0.500000</td>\n",
       "      <td>0.000000</td>\n",
       "      <td>711</td>\n",
       "    </tr>\n",
       "    <tr>\n",
       "      <th>2</th>\n",
       "      <td>http://mashable.com/2013/01/07/apple-40-billio...</td>\n",
       "      <td>731.0</td>\n",
       "      <td>9.0</td>\n",
       "      <td>211.0</td>\n",
       "      <td>0.575130</td>\n",
       "      <td>1.0</td>\n",
       "      <td>0.663866</td>\n",
       "      <td>3.0</td>\n",
       "      <td>1.0</td>\n",
       "      <td>1.0</td>\n",
       "      <td>...</td>\n",
       "      <td>0.100000</td>\n",
       "      <td>1.0</td>\n",
       "      <td>-0.466667</td>\n",
       "      <td>-0.800</td>\n",
       "      <td>-0.133333</td>\n",
       "      <td>0.000000</td>\n",
       "      <td>0.000000</td>\n",
       "      <td>0.500000</td>\n",
       "      <td>0.000000</td>\n",
       "      <td>1500</td>\n",
       "    </tr>\n",
       "    <tr>\n",
       "      <th>3</th>\n",
       "      <td>http://mashable.com/2013/01/07/astronaut-notre...</td>\n",
       "      <td>731.0</td>\n",
       "      <td>9.0</td>\n",
       "      <td>531.0</td>\n",
       "      <td>0.503788</td>\n",
       "      <td>1.0</td>\n",
       "      <td>0.665635</td>\n",
       "      <td>9.0</td>\n",
       "      <td>0.0</td>\n",
       "      <td>1.0</td>\n",
       "      <td>...</td>\n",
       "      <td>0.136364</td>\n",
       "      <td>0.8</td>\n",
       "      <td>-0.369697</td>\n",
       "      <td>-0.600</td>\n",
       "      <td>-0.166667</td>\n",
       "      <td>0.000000</td>\n",
       "      <td>0.000000</td>\n",
       "      <td>0.500000</td>\n",
       "      <td>0.000000</td>\n",
       "      <td>1200</td>\n",
       "    </tr>\n",
       "    <tr>\n",
       "      <th>4</th>\n",
       "      <td>http://mashable.com/2013/01/07/att-u-verse-apps/</td>\n",
       "      <td>731.0</td>\n",
       "      <td>13.0</td>\n",
       "      <td>1072.0</td>\n",
       "      <td>0.415646</td>\n",
       "      <td>1.0</td>\n",
       "      <td>0.540890</td>\n",
       "      <td>19.0</td>\n",
       "      <td>19.0</td>\n",
       "      <td>20.0</td>\n",
       "      <td>...</td>\n",
       "      <td>0.033333</td>\n",
       "      <td>1.0</td>\n",
       "      <td>-0.220192</td>\n",
       "      <td>-0.500</td>\n",
       "      <td>-0.050000</td>\n",
       "      <td>0.454545</td>\n",
       "      <td>0.136364</td>\n",
       "      <td>0.045455</td>\n",
       "      <td>0.136364</td>\n",
       "      <td>505</td>\n",
       "    </tr>\n",
       "  </tbody>\n",
       "</table>\n",
       "<p>5 rows × 61 columns</p>\n",
       "</div>"
      ],
      "text/plain": [
       "                                                 url   timedelta  \\\n",
       "0  http://mashable.com/2013/01/07/amazon-instant-...       731.0   \n",
       "1  http://mashable.com/2013/01/07/ap-samsung-spon...       731.0   \n",
       "2  http://mashable.com/2013/01/07/apple-40-billio...       731.0   \n",
       "3  http://mashable.com/2013/01/07/astronaut-notre...       731.0   \n",
       "4   http://mashable.com/2013/01/07/att-u-verse-apps/       731.0   \n",
       "\n",
       "    n_tokens_title   n_tokens_content   n_unique_tokens   n_non_stop_words  \\\n",
       "0             12.0              219.0          0.663594                1.0   \n",
       "1              9.0              255.0          0.604743                1.0   \n",
       "2              9.0              211.0          0.575130                1.0   \n",
       "3              9.0              531.0          0.503788                1.0   \n",
       "4             13.0             1072.0          0.415646                1.0   \n",
       "\n",
       "    n_non_stop_unique_tokens   num_hrefs   num_self_hrefs   num_imgs  ...  \\\n",
       "0                   0.815385         4.0              2.0        1.0  ...   \n",
       "1                   0.791946         3.0              1.0        1.0  ...   \n",
       "2                   0.663866         3.0              1.0        1.0  ...   \n",
       "3                   0.665635         9.0              0.0        1.0  ...   \n",
       "4                   0.540890        19.0             19.0       20.0  ...   \n",
       "\n",
       "    min_positive_polarity   max_positive_polarity   avg_negative_polarity  \\\n",
       "0                0.100000                     0.7               -0.350000   \n",
       "1                0.033333                     0.7               -0.118750   \n",
       "2                0.100000                     1.0               -0.466667   \n",
       "3                0.136364                     0.8               -0.369697   \n",
       "4                0.033333                     1.0               -0.220192   \n",
       "\n",
       "    min_negative_polarity   max_negative_polarity   title_subjectivity  \\\n",
       "0                  -0.600               -0.200000             0.500000   \n",
       "1                  -0.125               -0.100000             0.000000   \n",
       "2                  -0.800               -0.133333             0.000000   \n",
       "3                  -0.600               -0.166667             0.000000   \n",
       "4                  -0.500               -0.050000             0.454545   \n",
       "\n",
       "    title_sentiment_polarity   abs_title_subjectivity  \\\n",
       "0                  -0.187500                 0.000000   \n",
       "1                   0.000000                 0.500000   \n",
       "2                   0.000000                 0.500000   \n",
       "3                   0.000000                 0.500000   \n",
       "4                   0.136364                 0.045455   \n",
       "\n",
       "    abs_title_sentiment_polarity   shares  \n",
       "0                       0.187500      593  \n",
       "1                       0.000000      711  \n",
       "2                       0.000000     1500  \n",
       "3                       0.000000     1200  \n",
       "4                       0.136364      505  \n",
       "\n",
       "[5 rows x 61 columns]"
      ]
     },
     "execution_count": 2,
     "metadata": {},
     "output_type": "execute_result"
    }
   ],
   "source": [
    "datafile = 'OnlineNewsPopularity.csv'\n",
    "df = pd.read_csv(datafile)\n",
    "df.head()"
   ]
  },
  {
   "cell_type": "markdown",
   "metadata": {},
   "source": [
    "## Class Labels - 4 Classes"
   ]
  },
  {
   "cell_type": "code",
   "execution_count": 3,
   "metadata": {},
   "outputs": [],
   "source": [
    "# N=4\n",
    "df['class_N4'] = 0\n",
    "df.loc[(df[' shares']>=1050) & (df[' shares']<2350), 'class_N4'] = 1\n",
    "df.loc[(df[' shares']>=2350) & (df[' shares']<7550), 'class_N4'] = 2\n",
    "df.loc[df[' shares']>=7550, 'class_N4'] = 3"
   ]
  },
  {
   "cell_type": "markdown",
   "metadata": {},
   "source": [
    "## Feature Engineering"
   ]
  },
  {
   "cell_type": "code",
   "execution_count": 4,
   "metadata": {},
   "outputs": [],
   "source": [
    "df.columns = df.columns.str.replace(' ', '')\n",
    "df.loc[:,'No_word'] = df.n_tokens_content.apply(lambda x: 1 if x==0 else 0)\n",
    "topic_list = list(df.columns[df.columns.str.contains('LDA')])\n",
    "all_below_point3 = list(df[topic_list][df[topic_list]<0.3].dropna().index)\n",
    "df.loc[all_below_point3, 'all_topic'] = 1\n",
    "df['all_topic']= df['all_topic'].fillna(0)"
   ]
  },
  {
   "cell_type": "code",
   "execution_count": 5,
   "metadata": {},
   "outputs": [
    {
     "data": {
      "text/plain": [
       "0.0    39553\n",
       "1.0       91\n",
       "Name: all_topic, dtype: int64"
      ]
     },
     "execution_count": 5,
     "metadata": {},
     "output_type": "execute_result"
    }
   ],
   "source": [
    "df['all_topic'].value_counts()"
   ]
  },
  {
   "cell_type": "code",
   "execution_count": 6,
   "metadata": {},
   "outputs": [
    {
     "data": {
      "text/plain": [
       "0    38463\n",
       "1     1181\n",
       "Name: No_word, dtype: int64"
      ]
     },
     "execution_count": 6,
     "metadata": {},
     "output_type": "execute_result"
    }
   ],
   "source": [
    "df['No_word'].value_counts()"
   ]
  },
  {
   "cell_type": "markdown",
   "metadata": {},
   "source": [
    "## Data Cleaning and Data Transformation"
   ]
  },
  {
   "cell_type": "code",
   "execution_count": 7,
   "metadata": {},
   "outputs": [
    {
     "name": "stdout",
     "output_type": "stream",
     "text": [
      "n_unique_tokens\n",
      "n_non_stop_words\n",
      "n_non_stop_unique_tokens\n"
     ]
    }
   ],
   "source": [
    "#outlier (>1) in var “n_unique_tokens”, “n_non_stop_words”, and “n_non_stop_unique_tokens”, \n",
    "#which might be due to typing error. We will remove that observation.\n",
    "col_list = [4,5,6]\n",
    "for col in col_list:\n",
    "    print(df.columns[col])\n",
    "    df = df[df[df.columns[col]]<1]"
   ]
  },
  {
   "cell_type": "code",
   "execution_count": 8,
   "metadata": {},
   "outputs": [
    {
     "name": "stdout",
     "output_type": "stream",
     "text": [
      "average_token_length\n",
      "kw_max_min\n",
      "global_subjectivity\n",
      "global_sentiment_polarity\n",
      "global_rate_positive_words\n",
      "rate_positive_words\n",
      "rate_negative_words\n",
      "avg_positive_polarity\n",
      "avg_negative_polarity\n"
     ]
    }
   ],
   "source": [
    "#Missing values are very troubling in this data set because they are coded as 0. \n",
    "#So you have to judge if the 0 are missing or real data. By check the distributions, \n",
    "#we found around 3000 observations with missing values in 9 different variables. \n",
    "#We will remove all cases with missing values.\n",
    "col_list = [11,20,44,45,46,48,49,50,53]\n",
    "for col in col_list:\n",
    "    print(df.columns[col])\n",
    "    df = df[df[df.columns[col]]!=0]"
   ]
  },
  {
   "cell_type": "code",
   "execution_count": 9,
   "metadata": {},
   "outputs": [
    {
     "name": "stdout",
     "output_type": "stream",
     "text": [
      "n_tokens_content\n",
      "num_hrefs\n",
      "num_self_hrefs\n",
      "num_imgs\n",
      "num_videos\n",
      "kw_min_max\n",
      "kw_max_avg\n",
      "kw_avg_avg\n",
      "self_reference_min_shares\n",
      "self_reference_max_shares\n",
      "self_reference_avg_sharess\n",
      "LDA_00\n",
      "LDA_01\n",
      "LDA_02\n",
      "LDA_03\n",
      "LDA_04\n",
      "global_rate_negative_words\n",
      "shares\n"
     ]
    }
   ],
   "source": [
    "#treat skewed data. \n",
    "#for those variables with all values bigger than 0, use log\n",
    "#and other variable with 0, use square root.\n",
    "\n",
    "col_list = [3,7,8,9,10,22,26,27,28,29,30,39,40,41,42,43,47,60] ######\n",
    "for col in col_list:\n",
    "    print(df.columns[col])\n",
    "    if np.min(df[df.columns[col]]) > 0:\n",
    "        col_name = 'log_'+df.columns[col]\n",
    "        df[df.columns[col]] = np.log(df[df.columns[col]])\n",
    "    else:\n",
    "        col_name = 'sqrt_'+df.columns[col]\n",
    "        df[df.columns[col]] = np.sqrt(df[df.columns[col]])   \n",
    "    if df.columns[col] != ' shares':\n",
    "        df.rename(columns={df.columns[col]:col_name}, inplace=True)\n"
   ]
  },
  {
   "cell_type": "markdown",
   "metadata": {},
   "source": [
    "## LGBM Model\n",
    "### First Round Optimization"
   ]
  },
  {
   "cell_type": "code",
   "execution_count": 10,
   "metadata": {},
   "outputs": [
    {
     "data": {
      "text/plain": [
       "Index(['url', 'timedelta', 'n_tokens_title', 'log_n_tokens_content',\n",
       "       'n_unique_tokens', 'n_non_stop_words', 'n_non_stop_unique_tokens',\n",
       "       'sqrt_num_hrefs', 'sqrt_num_self_hrefs', 'sqrt_num_imgs',\n",
       "       'sqrt_num_videos', 'average_token_length', 'num_keywords',\n",
       "       'data_channel_is_lifestyle', 'data_channel_is_entertainment',\n",
       "       'data_channel_is_bus', 'data_channel_is_socmed', 'data_channel_is_tech',\n",
       "       'data_channel_is_world', 'kw_min_min', 'kw_max_min', 'kw_avg_min',\n",
       "       'sqrt_kw_min_max', 'kw_max_max', 'kw_avg_max', 'kw_min_avg',\n",
       "       'log_kw_max_avg', 'log_kw_avg_avg', 'sqrt_self_reference_min_shares',\n",
       "       'sqrt_self_reference_max_shares', 'sqrt_self_reference_avg_sharess',\n",
       "       'weekday_is_monday', 'weekday_is_tuesday', 'weekday_is_wednesday',\n",
       "       'weekday_is_thursday', 'weekday_is_friday', 'weekday_is_saturday',\n",
       "       'weekday_is_sunday', 'is_weekend', 'log_LDA_00', 'log_LDA_01',\n",
       "       'log_LDA_02', 'log_LDA_03', 'log_LDA_04', 'global_subjectivity',\n",
       "       'global_sentiment_polarity', 'global_rate_positive_words',\n",
       "       'log_global_rate_negative_words', 'rate_positive_words',\n",
       "       'rate_negative_words', 'avg_positive_polarity', 'min_positive_polarity',\n",
       "       'max_positive_polarity', 'avg_negative_polarity',\n",
       "       'min_negative_polarity', 'max_negative_polarity', 'title_subjectivity',\n",
       "       'title_sentiment_polarity', 'abs_title_subjectivity',\n",
       "       'abs_title_sentiment_polarity', 'log_shares', 'class_N4', 'No_word',\n",
       "       'all_topic'],\n",
       "      dtype='object')"
      ]
     },
     "execution_count": 10,
     "metadata": {},
     "output_type": "execute_result"
    }
   ],
   "source": [
    "df.columns"
   ]
  },
  {
   "cell_type": "code",
   "execution_count": 11,
   "metadata": {},
   "outputs": [],
   "source": [
    "target = 'class_N4'\n",
    "\n",
    "features = ['sqrt_num_hrefs',  \n",
    "            'sqrt_num_self_hrefs', \n",
    "            'average_token_length', \n",
    "            'log_kw_max_avg', \n",
    "            'log_kw_avg_avg', \n",
    "            'weekday_is_tuesday', \n",
    "            'weekday_is_friday',  \n",
    "            'is_weekend', \n",
    "            'log_LDA_00', \n",
    "            'log_LDA_01',\n",
    "            'log_LDA_02', \n",
    "            'log_LDA_03', \n",
    "            'log_LDA_04', \n",
    "            'global_subjectivity', \n",
    "            'global_sentiment_polarity', \n",
    "            'global_rate_positive_words',\n",
    "            'log_global_rate_negative_words', \n",
    "            'rate_positive_words', \n",
    "            'avg_positive_polarity', \n",
    "            'avg_negative_polarity', \n",
    "            'title_subjectivity', \n",
    "            'title_sentiment_polarity', \n",
    "            \n",
    "            'all_topic', \n",
    "            'No_word',\n",
    "            \n",
    "            'n_unique_tokens', \n",
    "            'sqrt_self_reference_min_shares', \n",
    "           ]\n",
    "\n",
    "seed = 2021\n",
    "test_size = 0.2 "
   ]
  },
  {
   "cell_type": "code",
   "execution_count": 12,
   "metadata": {},
   "outputs": [],
   "source": [
    "from sklearn.model_selection import train_test_split\n",
    "from sklearn.model_selection import StratifiedKFold\n",
    "\n",
    "df_X = df[features]\n",
    "df_y = df[target]\n",
    "\n",
    "X_train, X_test, y_train, y_test = train_test_split(df_X,\n",
    "                                                    df_y,\n",
    "                                                    test_size=test_size,\n",
    "                                                    random_state=seed,\n",
    "                                                    stratify=df_y)\n",
    "\n",
    "kf = StratifiedKFold(n_splits=5, shuffle=False)"
   ]
  },
  {
   "cell_type": "code",
   "execution_count": 13,
   "metadata": {},
   "outputs": [],
   "source": [
    "# Bayesian Optimization by Hyperopt package\n",
    "from hyperopt import hp, Trials, fmin, tpe, STATUS_OK\n",
    "from hyperopt.pyll import scope\n",
    "\n",
    "import lightgbm as lgb\n",
    "from sklearn.metrics import classification_report\n",
    "from sklearn.metrics import roc_auc_score, accuracy_score"
   ]
  },
  {
   "cell_type": "code",
   "execution_count": 14,
   "metadata": {},
   "outputs": [],
   "source": [
    "def hyperopt_multiclass(param_space, X_train, y_train, num_eval, classifier):\n",
    "    \n",
    "    def objective_function_multiclass(params):\n",
    "        # initialise classifier\n",
    "        clf = classifier(**params, random_state=1)\n",
    "        # cross validation + scoring (AUC)\n",
    "        score = cross_val_score(clf, X_train, y_train, scoring='accuracy', cv=kf, error_score='raise').mean()\n",
    "        # objective is to maximise AUC i.e. minimize -AUC\n",
    "        return {'loss': -score, 'status': STATUS_OK}\n",
    "\n",
    "    trials = Trials()\n",
    "    # minimise objective function\n",
    "    best_param = fmin(objective_function_multiclass, param_space, algo=tpe.suggest, max_evals=num_eval,\n",
    "                      trials=trials, rstate=np.random.RandomState(1))\n",
    "\n",
    "    loss = [x['result']['loss'] for x in trials.trials]\n",
    "    best_param_values = best_param\n",
    "    return trials, best_param_values"
   ]
  },
  {
   "cell_type": "code",
   "execution_count": 15,
   "metadata": {},
   "outputs": [],
   "source": [
    "#Define the parameters that will be optimized\n",
    "num_eval = 10 # should use 50, 100, or more\n",
    "\n",
    "# setting the range of parameter tuning\n",
    "LGBM_param_hyperopt = {\n",
    "    'objective': hp.choice('objective', ['multiclass']),\n",
    "    #'metric': hp.choice('metric', ['auc']),\n",
    "    'num_leaves': scope.int(hp.quniform('num_leaves', 200, 500, 1)),\n",
    "    'feature_fraction': hp.uniform('feature_fraction', 0.7, 1),\n",
    "    'bagging_freq': scope.int(hp.quniform('bagging_freq', 3, 8, 1)),\n",
    "    'bagging_fraction': hp.uniform('bagging_fraction', 0.7, 1),\n",
    "    'max_depth': scope.int(hp.quniform('max_depth', 3, 15, 1)),  ##***\n",
    "    'min_split_gain': scope.int(hp.quniform('min_split_gain', 0, 5, 1)),\n",
    "    'lambda_l1': scope.int(hp.quniform('lambda_l1', 0, 100, 1)),\n",
    "    'lambda_l2': scope.int(hp.quniform('lambda_l2', 0, 100, 1))\n",
    "    }"
   ]
  },
  {
   "cell_type": "code",
   "execution_count": 16,
   "metadata": {},
   "outputs": [
    {
     "name": "stdout",
     "output_type": "stream",
     "text": [
      "100%|██████████████████████████████████████████████| 10/10 [00:35<00:00,  3.50s/trial, best loss: -0.45291012526732005]\n"
     ]
    }
   ],
   "source": [
    "import lightgbm as lgb\n",
    "from sklearn.model_selection import cross_val_score\n",
    "LGBM_hyperopt = hyperopt_multiclass(LGBM_param_hyperopt, X_train, y_train, num_eval, lgb.LGBMClassifier)"
   ]
  },
  {
   "cell_type": "code",
   "execution_count": 17,
   "metadata": {},
   "outputs": [
    {
     "name": "stdout",
     "output_type": "stream",
     "text": [
      "{'bagging_fraction': 0.8058625936905032, 'bagging_freq': 6.0, 'feature_fraction': 0.9069302938359953, 'lambda_l1': 45.0, 'lambda_l2': 28.0, 'max_depth': 12.0, 'min_split_gain': 0.0, 'num_leaves': 449.0, 'objective': 0}\n",
      "<hyperopt.base.Trials object at 0x000001D315939A58>\n"
     ]
    }
   ],
   "source": [
    "# The best model is\n",
    "lgbm_chosen = LGBM_hyperopt[1]\n",
    "print(lgbm_chosen)\n",
    "print(LGBM_hyperopt[0])"
   ]
  },
  {
   "cell_type": "markdown",
   "metadata": {},
   "source": [
    "## Fit model with optimal params"
   ]
  },
  {
   "cell_type": "code",
   "execution_count": 18,
   "metadata": {},
   "outputs": [
    {
     "data": {
      "image/png": "[encoded data removed]",
      "text/plain": [
       "<Figure size 576x720 with 1 Axes>"
      ]
     },
     "metadata": {
      "needs_background": "light"
     },
     "output_type": "display_data"
    }
   ],
   "source": [
    "model = lgb.LGBMClassifier(bagging_fraction = 0.8058625936905032, \n",
    "                           bagging_freq = 6, \n",
    "                           feature_fraction = 0.9069302938359953, \n",
    "                           lambda_l1 = 45, \n",
    "                           lambda_l2 = 28, \n",
    "                           max_depth = 12, \n",
    "                           #metric = 'auc', \n",
    "                           min_split_gain = 0, \n",
    "                           num_leaves = 449, \n",
    "                           objective = 'multiclass', \n",
    "                           random_state=seed)\n",
    "\n",
    "model.fit(X_train, y_train)\n",
    "\n",
    "feature_importance_df = pd.DataFrame()\n",
    "feature_importance_df[\"feature\"] = features\n",
    "feature_importance_df[\"importance\"] = model.feature_importances_\n",
    "\n",
    "def display_importances(feature_importance_df_):\n",
    "    cols = feature_importance_df_[[\"feature\", \"importance\"]].groupby(\"feature\").mean().sort_values(by=\"importance\", ascending=False).index\n",
    "    best_features = feature_importance_df_.loc[feature_importance_df_.feature.isin(cols)]\n",
    "    plt.figure(figsize=(8, 10))\n",
    "    sns.barplot(x=\"importance\", y=\"feature\", data=best_features.sort_values(by=\"importance\", ascending=False))\n",
    "    plt.title('LightGBM Features Importance')\n",
    "    plt.tight_layout()\n",
    "    \n",
    "display_importances(feature_importance_df)"
   ]
  },
  {
   "cell_type": "code",
   "execution_count": 19,
   "metadata": {},
   "outputs": [
    {
     "name": "stdout",
     "output_type": "stream",
     "text": [
      "              precision    recall  f1-score   support\n",
      "\n",
      "           0       0.52      0.53      0.52      2252\n",
      "           1       0.43      0.67      0.53      2829\n",
      "           2       0.47      0.15      0.22      1599\n",
      "           3       0.18      0.01      0.02       575\n",
      "\n",
      "    accuracy                           0.46      7255\n",
      "   macro avg       0.40      0.34      0.32      7255\n",
      "weighted avg       0.45      0.46      0.42      7255\n",
      "\n",
      "auc:  0.6680289339392873\n",
      "accuracy:  0.4600964851826327\n"
     ]
    }
   ],
   "source": [
    "y_pred = model.predict(X_test)\n",
    "report = classification_report(y_test, y_pred)\n",
    "auc = roc_auc_score(y_test, model.predict_proba(X_test), multi_class='ovr')\n",
    "accuracy = accuracy_score(y_test, y_pred)\n",
    "print(report)\n",
    "print('auc: ', auc)\n",
    "print('accuracy: ', accuracy)"
   ]
  },
  {
   "cell_type": "code",
   "execution_count": 20,
   "metadata": {},
   "outputs": [
    {
     "data": {
      "text/html": [
       "<div>\n",
       "<style scoped>\n",
       "    .dataframe tbody tr th:only-of-type {\n",
       "        vertical-align: middle;\n",
       "    }\n",
       "\n",
       "    .dataframe tbody tr th {\n",
       "        vertical-align: top;\n",
       "    }\n",
       "\n",
       "    .dataframe thead th {\n",
       "        text-align: right;\n",
       "    }\n",
       "</style>\n",
       "<table border=\"1\" class=\"dataframe\">\n",
       "  <thead>\n",
       "    <tr style=\"text-align: right;\">\n",
       "      <th></th>\n",
       "      <th>feature</th>\n",
       "      <th>importance</th>\n",
       "    </tr>\n",
       "  </thead>\n",
       "  <tbody>\n",
       "    <tr>\n",
       "      <th>0</th>\n",
       "      <td>log_kw_avg_avg</td>\n",
       "      <td>936</td>\n",
       "    </tr>\n",
       "    <tr>\n",
       "      <th>1</th>\n",
       "      <td>log_kw_max_avg</td>\n",
       "      <td>833</td>\n",
       "    </tr>\n",
       "    <tr>\n",
       "      <th>2</th>\n",
       "      <td>sqrt_self_reference_min_shares</td>\n",
       "      <td>765</td>\n",
       "    </tr>\n",
       "    <tr>\n",
       "      <th>3</th>\n",
       "      <td>n_unique_tokens</td>\n",
       "      <td>764</td>\n",
       "    </tr>\n",
       "    <tr>\n",
       "      <th>4</th>\n",
       "      <td>log_LDA_03</td>\n",
       "      <td>734</td>\n",
       "    </tr>\n",
       "    <tr>\n",
       "      <th>5</th>\n",
       "      <td>log_LDA_04</td>\n",
       "      <td>719</td>\n",
       "    </tr>\n",
       "    <tr>\n",
       "      <th>6</th>\n",
       "      <td>log_LDA_00</td>\n",
       "      <td>665</td>\n",
       "    </tr>\n",
       "    <tr>\n",
       "      <th>7</th>\n",
       "      <td>log_LDA_02</td>\n",
       "      <td>657</td>\n",
       "    </tr>\n",
       "    <tr>\n",
       "      <th>8</th>\n",
       "      <td>sqrt_num_hrefs</td>\n",
       "      <td>636</td>\n",
       "    </tr>\n",
       "    <tr>\n",
       "      <th>9</th>\n",
       "      <td>log_LDA_01</td>\n",
       "      <td>614</td>\n",
       "    </tr>\n",
       "    <tr>\n",
       "      <th>10</th>\n",
       "      <td>global_subjectivity</td>\n",
       "      <td>588</td>\n",
       "    </tr>\n",
       "    <tr>\n",
       "      <th>11</th>\n",
       "      <td>avg_negative_polarity</td>\n",
       "      <td>586</td>\n",
       "    </tr>\n",
       "    <tr>\n",
       "      <th>12</th>\n",
       "      <td>global_rate_positive_words</td>\n",
       "      <td>573</td>\n",
       "    </tr>\n",
       "    <tr>\n",
       "      <th>13</th>\n",
       "      <td>title_sentiment_polarity</td>\n",
       "      <td>556</td>\n",
       "    </tr>\n",
       "    <tr>\n",
       "      <th>14</th>\n",
       "      <td>average_token_length</td>\n",
       "      <td>547</td>\n",
       "    </tr>\n",
       "    <tr>\n",
       "      <th>15</th>\n",
       "      <td>global_sentiment_polarity</td>\n",
       "      <td>529</td>\n",
       "    </tr>\n",
       "    <tr>\n",
       "      <th>16</th>\n",
       "      <td>avg_positive_polarity</td>\n",
       "      <td>496</td>\n",
       "    </tr>\n",
       "    <tr>\n",
       "      <th>17</th>\n",
       "      <td>sqrt_num_self_hrefs</td>\n",
       "      <td>416</td>\n",
       "    </tr>\n",
       "    <tr>\n",
       "      <th>18</th>\n",
       "      <td>log_global_rate_negative_words</td>\n",
       "      <td>387</td>\n",
       "    </tr>\n",
       "    <tr>\n",
       "      <th>19</th>\n",
       "      <td>rate_positive_words</td>\n",
       "      <td>374</td>\n",
       "    </tr>\n",
       "    <tr>\n",
       "      <th>20</th>\n",
       "      <td>is_weekend</td>\n",
       "      <td>130</td>\n",
       "    </tr>\n",
       "    <tr>\n",
       "      <th>21</th>\n",
       "      <td>title_subjectivity</td>\n",
       "      <td>119</td>\n",
       "    </tr>\n",
       "    <tr>\n",
       "      <th>22</th>\n",
       "      <td>weekday_is_friday</td>\n",
       "      <td>60</td>\n",
       "    </tr>\n",
       "    <tr>\n",
       "      <th>23</th>\n",
       "      <td>weekday_is_tuesday</td>\n",
       "      <td>14</td>\n",
       "    </tr>\n",
       "    <tr>\n",
       "      <th>24</th>\n",
       "      <td>all_topic</td>\n",
       "      <td>0</td>\n",
       "    </tr>\n",
       "    <tr>\n",
       "      <th>25</th>\n",
       "      <td>No_word</td>\n",
       "      <td>0</td>\n",
       "    </tr>\n",
       "  </tbody>\n",
       "</table>\n",
       "</div>"
      ],
      "text/plain": [
       "                           feature  importance\n",
       "0                   log_kw_avg_avg         936\n",
       "1                   log_kw_max_avg         833\n",
       "2   sqrt_self_reference_min_shares         765\n",
       "3                  n_unique_tokens         764\n",
       "4                       log_LDA_03         734\n",
       "5                       log_LDA_04         719\n",
       "6                       log_LDA_00         665\n",
       "7                       log_LDA_02         657\n",
       "8                   sqrt_num_hrefs         636\n",
       "9                       log_LDA_01         614\n",
       "10             global_subjectivity         588\n",
       "11           avg_negative_polarity         586\n",
       "12      global_rate_positive_words         573\n",
       "13        title_sentiment_polarity         556\n",
       "14            average_token_length         547\n",
       "15       global_sentiment_polarity         529\n",
       "16           avg_positive_polarity         496\n",
       "17             sqrt_num_self_hrefs         416\n",
       "18  log_global_rate_negative_words         387\n",
       "19             rate_positive_words         374\n",
       "20                      is_weekend         130\n",
       "21              title_subjectivity         119\n",
       "22               weekday_is_friday          60\n",
       "23              weekday_is_tuesday          14\n",
       "24                       all_topic           0\n",
       "25                         No_word           0"
      ]
     },
     "execution_count": 20,
     "metadata": {},
     "output_type": "execute_result"
    }
   ],
   "source": [
    "feature_importance_df = feature_importance_df.sort_values('importance', ascending=False).reset_index().drop(columns = ['index'])\n",
    "feature_importance_df"
   ]
  },
  {
   "cell_type": "markdown",
   "metadata": {},
   "source": [
    "## Feature Selection"
   ]
  },
  {
   "cell_type": "code",
   "execution_count": 21,
   "metadata": {},
   "outputs": [
    {
     "data": {
      "text/plain": [
       "26"
      ]
     },
     "execution_count": 21,
     "metadata": {},
     "output_type": "execute_result"
    }
   ],
   "source": [
    "len(feature_importance_df.feature)"
   ]
  },
  {
   "cell_type": "code",
   "execution_count": 22,
   "metadata": {},
   "outputs": [
    {
     "name": "stdout",
     "output_type": "stream",
     "text": [
      "number of features:  15\n",
      "['log_kw_avg_avg', 'log_kw_max_avg', 'sqrt_self_reference_min_shares', 'n_unique_tokens', 'log_LDA_03', 'log_LDA_04', 'log_LDA_00', 'log_LDA_02', 'sqrt_num_hrefs', 'log_LDA_01', 'global_rate_positive_words', 'average_token_length', 'global_sentiment_polarity', 'is_weekend', 'title_subjectivity']\n",
      "[0.3943487250172295, 0.40151619572708475, 0.41047553411440385, 0.41764300482425915, 0.4219159200551344, 0.42605099931082013, 0.4372157133011716, 0.44024810475534115, 0.4406616126809097, 0.44589937973811167, 0.4460372157133012, 0.44645072363886973, 0.44865609924190214, 0.4587181254307374, 0.46064782908339075]\n"
     ]
    }
   ],
   "source": [
    "feature_0 = feature_importance_df.feature[0]\n",
    "model.fit(X_train[[feature_0]], y_train)\n",
    "score_0 = accuracy_score(y_test, model.predict(X_test[[feature_0]]))\n",
    "\n",
    "features = [feature_0]\n",
    "scores = [score_0]\n",
    "\n",
    "for feature in feature_importance_df.feature[1:]:\n",
    "    features_temp = features.copy()\n",
    "    features_temp.append(feature)\n",
    "    model.fit(X_train[features_temp], y_train)\n",
    "    score = accuracy_score(y_test, model.predict(X_test[features_temp]))\n",
    "    if score > max(scores):\n",
    "        features.append(feature)\n",
    "        scores.append(score)\n",
    "print('number of features: ', len(features))\n",
    "print(features)\n",
    "print(scores)"
   ]
  },
  {
   "cell_type": "code",
   "execution_count": 23,
   "metadata": {},
   "outputs": [
    {
     "data": {
      "text/plain": [
       "Text(0, 0.5, 'accuracy score')"
      ]
     },
     "execution_count": 23,
     "metadata": {},
     "output_type": "execute_result"
    },
    {
     "data": {
      "image/png": "[encoded data removed]",
      "text/plain": [
       "<Figure size 1152x576 with 1 Axes>"
      ]
     },
     "metadata": {
      "needs_background": "light"
     },
     "output_type": "display_data"
    }
   ],
   "source": [
    "fig, ax = plt.subplots(figsize=(16, 8))\n",
    "ax.plot(range(len(features)), scores, marker = '.', markersize = 20)\n",
    "ax.set_title(\"Accuracy Scores vs Features\", fontsize=18)\n",
    "ax.set_xticks(range(len(features)))\n",
    "ax.set_xticklabels(features,rotation=90)\n",
    "ax.set_xlabel(\"added feature\", fontsize=18)\n",
    "ax.set_ylabel(\"accuracy score\", fontsize=18)"
   ]
  },
  {
   "cell_type": "markdown",
   "metadata": {},
   "source": [
    "## Final Optimization and Final Results"
   ]
  },
  {
   "cell_type": "code",
   "execution_count": 24,
   "metadata": {},
   "outputs": [
    {
     "name": "stdout",
     "output_type": "stream",
     "text": [
      "100%|███████████████████████████████████████████████| 10/10 [00:31<00:00,  3.16s/trial, best loss: -0.4508080256973953]\n"
     ]
    }
   ],
   "source": [
    "X_train = X_train[features]\n",
    "LGBM_hyperopt = hyperopt_multiclass(LGBM_param_hyperopt, X_train, y_train, num_eval, lgb.LGBMClassifier)"
   ]
  },
  {
   "cell_type": "code",
   "execution_count": 25,
   "metadata": {},
   "outputs": [
    {
     "name": "stdout",
     "output_type": "stream",
     "text": [
      "{'bagging_fraction': 0.840917372537952, 'bagging_freq': 6.0, 'feature_fraction': 0.9449864348944501, 'lambda_l1': 22.0, 'lambda_l2': 38.0, 'max_depth': 10.0, 'min_split_gain': 0.0, 'num_leaves': 395.0, 'objective': 0}\n",
      "<hyperopt.base.Trials object at 0x000001D315B23438>\n"
     ]
    }
   ],
   "source": [
    "# The best model is\n",
    "lgbm_chosen = LGBM_hyperopt[1]\n",
    "print(lgbm_chosen)\n",
    "print(LGBM_hyperopt[0])"
   ]
  },
  {
   "cell_type": "code",
   "execution_count": 26,
   "metadata": {},
   "outputs": [
    {
     "data": {
      "image/png": "[encoded data removed]",
      "text/plain": [
       "<Figure size 576x720 with 1 Axes>"
      ]
     },
     "metadata": {
      "needs_background": "light"
     },
     "output_type": "display_data"
    }
   ],
   "source": [
    "model = lgb.LGBMClassifier(bagging_fraction = 0.840917372537952, \n",
    "                           bagging_freq = 6, \n",
    "                           feature_fraction = 0.9449864348944501, \n",
    "                           lambda_l1 = 22, \n",
    "                           lambda_l2 = 38, \n",
    "                           max_depth = 10, \n",
    "                           #metric = 'auc', \n",
    "                           min_split_gain = 0, \n",
    "                           num_leaves = 395, \n",
    "                           objective = 'multiclass', \n",
    "                           random_state=seed)\n",
    "\n",
    "model.fit(X_train, y_train)\n",
    "\n",
    "feature_importance_df = pd.DataFrame()\n",
    "feature_importance_df[\"feature\"] = features\n",
    "feature_importance_df[\"importance\"] = model.feature_importances_\n",
    "\n",
    "def display_importances(feature_importance_df_):\n",
    "    cols = feature_importance_df_[[\"feature\", \"importance\"]].groupby(\"feature\").mean().sort_values(by=\"importance\", ascending=False)[:20].index\n",
    "    best_features = feature_importance_df_.loc[feature_importance_df_.feature.isin(cols)]\n",
    "    plt.figure(figsize=(8, 10))\n",
    "    sns.barplot(x=\"importance\", y=\"feature\", data=best_features.sort_values(by=\"importance\", ascending=False))\n",
    "    plt.title('LightGBM Features Importance')\n",
    "    plt.tight_layout()\n",
    "    \n",
    "display_importances(feature_importance_df)"
   ]
  },
  {
   "cell_type": "code",
   "execution_count": 27,
   "metadata": {},
   "outputs": [
    {
     "name": "stdout",
     "output_type": "stream",
     "text": [
      "              precision    recall  f1-score   support\n",
      "\n",
      "           0       0.52      0.53      0.52      2252\n",
      "           1       0.44      0.66      0.52      2829\n",
      "           2       0.45      0.18      0.25      1599\n",
      "           3       0.24      0.02      0.04       575\n",
      "\n",
      "    accuracy                           0.46      7255\n",
      "   macro avg       0.41      0.35      0.34      7255\n",
      "weighted avg       0.45      0.46      0.43      7255\n",
      "\n",
      "auc:  0.6677250300916647\n",
      "accuracy:  0.4614748449345279\n"
     ]
    }
   ],
   "source": [
    "y_pred = model.predict(X_test[features])\n",
    "report = classification_report(y_test, y_pred)\n",
    "auc = roc_auc_score(y_test, model.predict_proba(X_test[features]), multi_class='ovr')\n",
    "accuracy = accuracy_score(y_test, y_pred)\n",
    "print(report)\n",
    "print('auc: ', auc)\n",
    "print('accuracy: ', accuracy)"
   ]
  },
  {
   "cell_type": "code",
   "execution_count": null,
   "metadata": {},
   "outputs": [],
   "source": []
  }
 ],
 "metadata": {
  "kernelspec": {
   "display_name": "python36",
   "language": "python",
   "name": "python36"
  },
  "language_info": {
   "codemirror_mode": {
    "name": "ipython",
    "version": 3
   },
   "file_extension": ".py",
   "mimetype": "text/x-python",
   "name": "python",
   "nbconvert_exporter": "python",
   "pygments_lexer": "ipython3",
   "version": "3.6.12"
  }
 },
 "nbformat": 4,
 "nbformat_minor": 4
}
