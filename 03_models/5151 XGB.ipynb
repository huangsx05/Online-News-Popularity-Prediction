{
 "cells": [
  {
   "cell_type": "code",
   "execution_count": 86,
   "metadata": {},
   "outputs": [],
   "source": [
    "import pandas as pd\n",
    "import numpy as np\n",
    "import matplotlib.pyplot as plt\n",
    "import seaborn as sns\n",
    "import warnings\n",
    "warnings.filterwarnings(\"ignore\")\n",
    "from sklearn.model_selection import train_test_split\n",
    "import xgboost as xgb\n",
    "from sklearn.model_selection import cross_val_score\n",
    "from sklearn.metrics import roc_auc_score\n",
    "from sklearn.metrics import plot_confusion_matrix\n",
    "from sklearn.metrics import confusion_matrix\n",
    "from sklearn.metrics import classification_report\n",
    "from sklearn.linear_model import LogisticRegression\n",
    "from sklearn.metrics import f1_score\n",
    "from scipy.stats import skew\n",
    "from scipy.special import boxcox1p\n",
    "from scipy.stats import boxcox_normmax\n",
    "from sklearn.metrics import accuracy_score\n",
    "from sklearn.model_selection import GridSearchCV"
   ]
  },
  {
   "cell_type": "markdown",
   "metadata": {},
   "source": [
    "## Fit model with selected features \n",
    "features transformed, same as Sixuan's"
   ]
  },
  {
   "cell_type": "code",
   "execution_count": 10,
   "metadata": {},
   "outputs": [],
   "source": [
    "#15 most impt features\n",
    "features = ['log_kw_avg_avg', 'log_kw_max_avg', 'sqrt_self_reference_min_shares', \n",
    "                 'n_unique_tokens', 'log_LDA_03', 'log_LDA_04', 'log_LDA_00', 'log_LDA_02', \n",
    "                 'sqrt_num_hrefs', 'log_LDA_01', 'global_rate_positive_words', 'average_token_length', \n",
    "                 'global_sentiment_polarity', 'is_weekend', 'title_subjectivity']\n",
    "target = 'class_N4'\n",
    "seed = 2021\n",
    "test_size = 0.2 "
   ]
  },
  {
   "cell_type": "code",
   "execution_count": 11,
   "metadata": {},
   "outputs": [],
   "source": [
    "df= pd.read_csv('OnlineNewsPopularity.csv')\n",
    "# N=4\n",
    "df['class_N4'] = 0\n",
    "df.loc[(df[' shares']>=1050) & (df[' shares']<2350), 'class_N4'] = 1\n",
    "df.loc[(df[' shares']>=2350) & (df[' shares']<7550), 'class_N4'] = 2\n",
    "df.loc[df[' shares']>=7550, 'class_N4'] = 3"
   ]
  },
  {
   "cell_type": "code",
   "execution_count": 12,
   "metadata": {},
   "outputs": [
    {
     "name": "stdout",
     "output_type": "stream",
     "text": [
      " n_unique_tokens\n",
      " n_non_stop_words\n",
      " n_non_stop_unique_tokens\n"
     ]
    }
   ],
   "source": [
    "#outlier (>1) in var “n_unique_tokens”, “n_non_stop_words”, and “n_non_stop_unique_tokens”, \n",
    "#which might be due to typing error. We will remove that observation.\n",
    "col_list = [4,5,6]\n",
    "for col in col_list:\n",
    "    print(df.columns[col])\n",
    "    df = df[df[df.columns[col]]<1]"
   ]
  },
  {
   "cell_type": "code",
   "execution_count": 13,
   "metadata": {},
   "outputs": [
    {
     "name": "stdout",
     "output_type": "stream",
     "text": [
      " average_token_length\n",
      " kw_max_min\n",
      " global_subjectivity\n",
      " global_sentiment_polarity\n",
      " global_rate_positive_words\n",
      " rate_positive_words\n",
      " rate_negative_words\n",
      " avg_positive_polarity\n",
      " avg_negative_polarity\n"
     ]
    }
   ],
   "source": [
    "#Missing values are very troubling in this data set because they are coded as 0. \n",
    "#So you have to judge if the 0 are missing or real data. By check the distributions, \n",
    "#we found around 3000 observations with missing values in 9 different variables. \n",
    "#We will remove all cases with missing values.\n",
    "col_list = [11,20,44,45,46,48,49,50,53]\n",
    "for col in col_list:\n",
    "    print(df.columns[col])\n",
    "    df = df[df[df.columns[col]]!=0]"
   ]
  },
  {
   "cell_type": "code",
   "execution_count": 14,
   "metadata": {},
   "outputs": [
    {
     "name": "stdout",
     "output_type": "stream",
     "text": [
      " n_tokens_content\n",
      " num_hrefs\n",
      " num_self_hrefs\n",
      " num_imgs\n",
      " num_videos\n",
      " kw_min_max\n",
      " kw_max_avg\n",
      " kw_avg_avg\n",
      " self_reference_min_shares\n",
      " self_reference_max_shares\n",
      " self_reference_avg_sharess\n",
      " LDA_00\n",
      " LDA_01\n",
      " LDA_02\n",
      " LDA_03\n",
      " LDA_04\n",
      " global_rate_negative_words\n",
      " shares\n"
     ]
    }
   ],
   "source": [
    "#treat skewed data. \n",
    "#for those variables with all values bigger than 0, use log\n",
    "#and other variable with 0, use square root.\n",
    "\n",
    "col_list = [3,7,8,9,10,22,26,27,28,29,30,39,40,41,42,43,47,60] ######\n",
    "for col in col_list:\n",
    "    print(df.columns[col])\n",
    "    if np.min(df[df.columns[col]]) > 0:\n",
    "        col_name = 'log_'+df.columns[col]\n",
    "        df[df.columns[col]] = np.log(df[df.columns[col]])\n",
    "    else:\n",
    "        col_name = 'sqrt_'+df.columns[col]\n",
    "        df[df.columns[col]] = np.sqrt(df[df.columns[col]])   \n",
    "    if df.columns[col] != ' shares':\n",
    "        df.rename(columns={df.columns[col]:col_name}, inplace=True)\n"
   ]
  },
  {
   "cell_type": "code",
   "execution_count": 15,
   "metadata": {},
   "outputs": [],
   "source": [
    "df.columns = df.columns.str.replace(' ', '')"
   ]
  },
  {
   "cell_type": "code",
   "execution_count": 16,
   "metadata": {},
   "outputs": [],
   "source": [
    "from sklearn.model_selection import train_test_split\n",
    "from sklearn.model_selection import StratifiedKFold\n",
    "\n",
    "df_X = df[features]\n",
    "df_y = df[target]\n",
    "\n",
    "X_train, X_test, y_train, y_test = train_test_split(df_X,\n",
    "                                                    df_y,\n",
    "                                                    test_size=test_size,\n",
    "                                                    random_state=seed,\n",
    "                                                    stratify=df_y)\n",
    "\n",
    "kf = StratifiedKFold(n_splits=5, shuffle=False)"
   ]
  },
  {
   "cell_type": "code",
   "execution_count": 17,
   "metadata": {
    "scrolled": true
   },
   "outputs": [
    {
     "name": "stdout",
     "output_type": "stream",
     "text": [
      "roc auc score is 0.6550279385949409\n",
      "accuracy score is 0.4395589248793935\n",
      "              precision    recall  f1-score   support\n",
      "\n",
      "           0       0.49      0.52      0.50      2252\n",
      "           1       0.43      0.59      0.50      2829\n",
      "           2       0.40      0.20      0.27      1599\n",
      "           3       0.23      0.05      0.09       575\n",
      "\n",
      "    accuracy                           0.44      7255\n",
      "   macro avg       0.39      0.34      0.34      7255\n",
      "weighted avg       0.42      0.44      0.41      7255\n",
      "\n"
     ]
    }
   ],
   "source": [
    "X_train = X_train[features]\n",
    "#on the test\n",
    "#scaler = StandardScaler()\n",
    "#X_train_scaled = pd.DataFrame(scaler.fit_transform(X_train), columns = X_train.columns)\n",
    "#X_test_scaled = pd.DataFrame(scaler.transform(X_test), columns = X_test.columns)\n",
    "xgb_clf = xgb.XGBClassifier( objective= 'multi:softmax')\n",
    "xgb_clf.fit(X_train, y_train )\n",
    "y_pred = xgb_clf.predict(X_test[features])\n",
    "y_true = y_test\n",
    "print('roc auc score is {}'.format(roc_auc_score(y_true, xgb_clf.predict_proba(X_test[features]), multi_class='ovr')))\n",
    "print('accuracy score is {}'.format(accuracy_score(y_true, y_pred)))\n",
    "print(classification_report (y_true, y_pred))\n",
    "#accuracy quite low, need to select features independently for the model"
   ]
  },
  {
   "cell_type": "code",
   "execution_count": 22,
   "metadata": {},
   "outputs": [
    {
     "name": "stdout",
     "output_type": "stream",
     "text": [
      "Best AUC: 0.44\n",
      "Best parameters: {'learning_rate': 0.07, 'max_depth': 10, 'min_child_weight': 20, 'n_estimators': 200}\n",
      "Wall time: 15min 11s\n"
     ]
    }
   ],
   "source": [
    "%%time\n",
    "## fine tuning xgb gridsearch \n",
    "pipe_xgb = xgb.XGBClassifier(objective= 'multi:softmax',random_state=42)\n",
    "\n",
    "params_xgb = [ \n",
    "  {'n_estimators': [200],\n",
    "   'max_depth': [10], #10\n",
    "   'learning_rate': [0.07, 0.1], #0.05\n",
    "   #'subsample': [0.7,1],\n",
    "   'min_child_weight': [20,50]\n",
    "  }\n",
    "]\n",
    "\n",
    "grid_xgb = GridSearchCV(estimator=pipe_xgb,\n",
    "                        param_grid=params_xgb,\n",
    "                        scoring='accuracy',\n",
    "                        cv=5)\n",
    "\n",
    "grid_xgb.fit(X_train, y_train)\n",
    "\n",
    "xgb_best_score = grid_xgb.best_score_\n",
    "xgb_best_params = grid_xgb.best_params_\n",
    "xgb_best_model = grid_xgb.best_estimator_\n",
    "\n",
    "print(\"Best AUC:\", round(xgb_best_score,2))\n",
    "print(\"Best parameters:\", xgb_best_params)"
   ]
  },
  {
   "cell_type": "code",
   "execution_count": 23,
   "metadata": {},
   "outputs": [
    {
     "name": "stdout",
     "output_type": "stream",
     "text": [
      "roc auc score is 0.6603434207760732\n",
      "accuracy score is 0.4479669193659545\n",
      "              precision    recall  f1-score   support\n",
      "\n",
      "           0       0.50      0.53      0.51      2252\n",
      "           1       0.43      0.61      0.50      2829\n",
      "           2       0.41      0.19      0.26      1599\n",
      "           3       0.21      0.04      0.07       575\n",
      "\n",
      "    accuracy                           0.45      7255\n",
      "   macro avg       0.39      0.34      0.34      7255\n",
      "weighted avg       0.43      0.45      0.42      7255\n",
      "\n"
     ]
    }
   ],
   "source": [
    "xgb_best_model.fit(X_train, y_train )\n",
    "y_pred = xgb_best_model.predict(X_test[features])\n",
    "y_true = y_test\n",
    "print('roc auc score is {}'.format(roc_auc_score(y_true, xgb_best_model.predict_proba(X_test[features]), multi_class='ovr')))\n",
    "print('accuracy score is {}'.format(accuracy_score(y_true, y_pred)))\n",
    "print(classification_report (y_true, y_pred))"
   ]
  },
  {
   "cell_type": "markdown",
   "metadata": {},
   "source": [
    "## Fit models with selected features + engineered features & select the most optimal features for XGB"
   ]
  },
  {
   "cell_type": "code",
   "execution_count": 71,
   "metadata": {},
   "outputs": [],
   "source": [
    "df= pd.read_csv('OnlineNewsPopularity.csv')\n",
    "# N=4\n",
    "df['class_N4'] = 0\n",
    "df.loc[(df[' shares']>=1050) & (df[' shares']<2350), 'class_N4'] = 1\n",
    "df.loc[(df[' shares']>=2350) & (df[' shares']<7550), 'class_N4'] = 2\n",
    "df.loc[df[' shares']>=7550, 'class_N4'] = 3"
   ]
  },
  {
   "cell_type": "code",
   "execution_count": 72,
   "metadata": {},
   "outputs": [],
   "source": [
    "df.columns = df.columns.str.replace(' ', '')\n",
    "df.loc[:,'No_word'] = df.n_tokens_content.apply(lambda x: 1 if x==0 else 0)\n",
    "topic_list = list(df.columns[df.columns.str.contains('LDA')])\n",
    "all_below_point3 = list(df[topic_list][df[topic_list]<0.3].dropna().index)\n",
    "df.loc[all_below_point3, 'all_topic'] = 1\n",
    "df ['all_topic']= df['all_topic'].fillna(0)"
   ]
  },
  {
   "cell_type": "code",
   "execution_count": 73,
   "metadata": {},
   "outputs": [
    {
     "name": "stdout",
     "output_type": "stream",
     "text": [
      "n_unique_tokens\n",
      "n_non_stop_words\n",
      "n_non_stop_unique_tokens\n"
     ]
    }
   ],
   "source": [
    "#outlier (>1) in var “n_unique_tokens”, “n_non_stop_words”, and “n_non_stop_unique_tokens”, \n",
    "#which might be due to typing error. We will remove that observation.\n",
    "col_list = [4,5,6]\n",
    "for col in col_list:\n",
    "    print(df.columns[col])\n",
    "    df = df[df[df.columns[col]]<1]"
   ]
  },
  {
   "cell_type": "code",
   "execution_count": 74,
   "metadata": {},
   "outputs": [
    {
     "name": "stdout",
     "output_type": "stream",
     "text": [
      "average_token_length\n",
      "kw_max_min\n",
      "global_subjectivity\n",
      "global_sentiment_polarity\n",
      "global_rate_positive_words\n",
      "rate_positive_words\n",
      "rate_negative_words\n",
      "avg_positive_polarity\n",
      "avg_negative_polarity\n"
     ]
    }
   ],
   "source": [
    "#Missing values are very troubling in this data set because they are coded as 0. \n",
    "#So you have to judge if the 0 are missing or real data. By check the distributions, \n",
    "#we found around 3000 observations with missing values in 9 different variables. \n",
    "#We will remove all cases with missing values.\n",
    "col_list = [11,20,44,45,46,48,49,50,53]\n",
    "for col in col_list:\n",
    "    print(df.columns[col])\n",
    "    df = df[df[df.columns[col]]!=0]"
   ]
  },
  {
   "cell_type": "code",
   "execution_count": 75,
   "metadata": {},
   "outputs": [
    {
     "name": "stdout",
     "output_type": "stream",
     "text": [
      "n_tokens_content\n",
      "num_hrefs\n",
      "num_self_hrefs\n",
      "num_imgs\n",
      "num_videos\n",
      "kw_min_max\n",
      "kw_max_avg\n",
      "kw_avg_avg\n",
      "self_reference_min_shares\n",
      "self_reference_max_shares\n",
      "self_reference_avg_sharess\n",
      "LDA_00\n",
      "LDA_01\n",
      "LDA_02\n",
      "LDA_03\n",
      "LDA_04\n",
      "global_rate_negative_words\n",
      "shares\n"
     ]
    }
   ],
   "source": [
    "#treat skewed data. \n",
    "#for those variables with all values bigger than 0, use log\n",
    "#and other variable with 0, use square root.\n",
    "\n",
    "col_list = [3,7,8,9,10,22,26,27,28,29,30,39,40,41,42,43,47,60] ######\n",
    "for col in col_list:\n",
    "    print(df.columns[col])\n",
    "    if np.min(df[df.columns[col]]) > 0:\n",
    "        col_name = 'log_'+df.columns[col]\n",
    "        df[df.columns[col]] = np.log(df[df.columns[col]])\n",
    "    else:\n",
    "        col_name = 'sqrt_'+df.columns[col]\n",
    "        df[df.columns[col]] = np.sqrt(df[df.columns[col]])   \n",
    "    if df.columns[col] != ' shares':\n",
    "        df.rename(columns={df.columns[col]:col_name}, inplace=True)\n"
   ]
  },
  {
   "cell_type": "code",
   "execution_count": 76,
   "metadata": {},
   "outputs": [],
   "source": [
    "target = 'class_N4'\n",
    "\n",
    "features = ['sqrt_num_hrefs',  \n",
    "            'sqrt_num_self_hrefs', \n",
    "            'average_token_length', \n",
    "            'log_kw_max_avg', \n",
    "            'log_kw_avg_avg', \n",
    "            'weekday_is_tuesday', \n",
    "            'weekday_is_friday',  \n",
    "            'is_weekend', \n",
    "            'log_LDA_00', \n",
    "            'log_LDA_01',\n",
    "            'log_LDA_02', \n",
    "            'log_LDA_03', \n",
    "            'log_LDA_04', \n",
    "            'global_subjectivity', \n",
    "            'global_sentiment_polarity', \n",
    "            'global_rate_positive_words',\n",
    "            'log_global_rate_negative_words', \n",
    "            'rate_positive_words', \n",
    "            'avg_positive_polarity', \n",
    "            'avg_negative_polarity', \n",
    "            'title_subjectivity', \n",
    "            'title_sentiment_polarity', \n",
    "            \n",
    "            'all_topic', \n",
    "            'No_word',\n",
    "            \n",
    "            'n_unique_tokens', \n",
    "            'sqrt_self_reference_min_shares', \n",
    "           ]\n",
    "\n",
    "seed = 2021\n",
    "test_size = 0.2 "
   ]
  },
  {
   "cell_type": "code",
   "execution_count": 77,
   "metadata": {},
   "outputs": [
    {
     "data": {
      "text/plain": [
       "26"
      ]
     },
     "execution_count": 77,
     "metadata": {},
     "output_type": "execute_result"
    }
   ],
   "source": [
    "len(features)"
   ]
  },
  {
   "cell_type": "code",
   "execution_count": 78,
   "metadata": {},
   "outputs": [],
   "source": [
    "from sklearn.model_selection import train_test_split\n",
    "from sklearn.model_selection import StratifiedKFold\n",
    "\n",
    "df_X = df[features]\n",
    "df_y = df[target]\n",
    "\n",
    "X_train, X_test, y_train, y_test = train_test_split(df_X,\n",
    "                                                    df_y,\n",
    "                                                    test_size=test_size,\n",
    "                                                    random_state=seed,\n",
    "                                                    stratify=df_y)\n",
    "\n",
    "#kf = StratifiedKFold(n_splits=5, shuffle=False)"
   ]
  },
  {
   "cell_type": "code",
   "execution_count": 79,
   "metadata": {},
   "outputs": [
    {
     "data": {
      "text/plain": [
       "XGBClassifier(base_score=0.5, booster='gbtree', colsample_bylevel=1,\n",
       "              colsample_bynode=1, colsample_bytree=1, gamma=0, gpu_id=-1,\n",
       "              importance_type='gain', interaction_constraints='',\n",
       "              learning_rate=0.07, max_delta_step=0, max_depth=10,\n",
       "              min_child_weight=20, missing=nan, monotone_constraints='()',\n",
       "              n_estimators=200, n_jobs=0, num_parallel_tree=1,\n",
       "              objective='multi:softprob', random_state=0, reg_alpha=0,\n",
       "              reg_lambda=1, scale_pos_weight=None, subsample=1,\n",
       "              tree_method='exact', validate_parameters=1, verbosity=None)"
      ]
     },
     "execution_count": 79,
     "metadata": {},
     "output_type": "execute_result"
    }
   ],
   "source": [
    "xgb_clf = xgb.XGBClassifier(learning_rate =0.07, max_depth= 10, min_child_weight= 20, n_estimators= 200)\n",
    "xgb_clf.fit(X_train, y_train)"
   ]
  },
  {
   "cell_type": "code",
   "execution_count": 81,
   "metadata": {},
   "outputs": [
    {
     "data": {
      "text/plain": [
       "26"
      ]
     },
     "execution_count": 81,
     "metadata": {},
     "output_type": "execute_result"
    }
   ],
   "source": [
    "feature_importance_df = pd.DataFrame()\n",
    "feature_importance_df[\"feature\"] = features\n",
    "feature_importance_df[\"importance\"] = xgb_clf.feature_importances_\n",
    "\n",
    "feature_importance_df = feature_importance_df.sort_values('importance', ascending=False).reset_index().drop(columns = ['index'])\n",
    "len(feature_importance_df)"
   ]
  },
  {
   "cell_type": "code",
   "execution_count": 88,
   "metadata": {},
   "outputs": [
    {
     "data": {
      "image/png": "[encoded data removed]",
      "text/plain": [
       "<Figure size 576x720 with 1 Axes>"
      ]
     },
     "metadata": {
      "needs_background": "light"
     },
     "output_type": "display_data"
    }
   ],
   "source": [
    "def display_importances(feature_importance_df_):\n",
    "    cols = feature_importance_df_[[\"feature\", \"importance\"]].groupby(\"feature\").mean().sort_values(by=\"importance\", ascending=False).index\n",
    "    best_features = feature_importance_df_.loc[feature_importance_df_.feature.isin(cols)]\n",
    "    plt.figure(figsize=(8, 10))\n",
    "    sns.barplot(x=\"importance\", y=\"feature\", data=best_features.sort_values(by=\"importance\", ascending=False))\n",
    "    plt.title('XGB Features')\n",
    "    plt.tight_layout()\n",
    "    plt.savefig('XGB feature impt 26 selected features ')\n",
    "display_importances(feature_importance_df)"
   ]
  },
  {
   "cell_type": "code",
   "execution_count": 87,
   "metadata": {},
   "outputs": [
    {
     "data": {
      "text/html": [
       "<div>\n",
       "<style scoped>\n",
       "    .dataframe tbody tr th:only-of-type {\n",
       "        vertical-align: middle;\n",
       "    }\n",
       "\n",
       "    .dataframe tbody tr th {\n",
       "        vertical-align: top;\n",
       "    }\n",
       "\n",
       "    .dataframe thead th {\n",
       "        text-align: right;\n",
       "    }\n",
       "</style>\n",
       "<table border=\"1\" class=\"dataframe\">\n",
       "  <thead>\n",
       "    <tr style=\"text-align: right;\">\n",
       "      <th></th>\n",
       "      <th>feature</th>\n",
       "      <th>importance</th>\n",
       "    </tr>\n",
       "  </thead>\n",
       "  <tbody>\n",
       "    <tr>\n",
       "      <th>0</th>\n",
       "      <td>is_weekend</td>\n",
       "      <td>0.165930</td>\n",
       "    </tr>\n",
       "    <tr>\n",
       "      <th>1</th>\n",
       "      <td>log_kw_avg_avg</td>\n",
       "      <td>0.067677</td>\n",
       "    </tr>\n",
       "    <tr>\n",
       "      <th>2</th>\n",
       "      <td>sqrt_self_reference_min_shares</td>\n",
       "      <td>0.045381</td>\n",
       "    </tr>\n",
       "    <tr>\n",
       "      <th>3</th>\n",
       "      <td>weekday_is_friday</td>\n",
       "      <td>0.045237</td>\n",
       "    </tr>\n",
       "    <tr>\n",
       "      <th>4</th>\n",
       "      <td>log_LDA_04</td>\n",
       "      <td>0.044913</td>\n",
       "    </tr>\n",
       "    <tr>\n",
       "      <th>5</th>\n",
       "      <td>log_kw_max_avg</td>\n",
       "      <td>0.043312</td>\n",
       "    </tr>\n",
       "    <tr>\n",
       "      <th>6</th>\n",
       "      <td>log_LDA_00</td>\n",
       "      <td>0.039996</td>\n",
       "    </tr>\n",
       "    <tr>\n",
       "      <th>7</th>\n",
       "      <td>n_unique_tokens</td>\n",
       "      <td>0.035459</td>\n",
       "    </tr>\n",
       "    <tr>\n",
       "      <th>8</th>\n",
       "      <td>sqrt_num_hrefs</td>\n",
       "      <td>0.034720</td>\n",
       "    </tr>\n",
       "    <tr>\n",
       "      <th>9</th>\n",
       "      <td>title_sentiment_polarity</td>\n",
       "      <td>0.033582</td>\n",
       "    </tr>\n",
       "    <tr>\n",
       "      <th>10</th>\n",
       "      <td>log_LDA_01</td>\n",
       "      <td>0.033433</td>\n",
       "    </tr>\n",
       "    <tr>\n",
       "      <th>11</th>\n",
       "      <td>sqrt_num_self_hrefs</td>\n",
       "      <td>0.032730</td>\n",
       "    </tr>\n",
       "    <tr>\n",
       "      <th>12</th>\n",
       "      <td>log_LDA_03</td>\n",
       "      <td>0.032537</td>\n",
       "    </tr>\n",
       "    <tr>\n",
       "      <th>13</th>\n",
       "      <td>log_LDA_02</td>\n",
       "      <td>0.032078</td>\n",
       "    </tr>\n",
       "    <tr>\n",
       "      <th>14</th>\n",
       "      <td>rate_positive_words</td>\n",
       "      <td>0.031998</td>\n",
       "    </tr>\n",
       "    <tr>\n",
       "      <th>15</th>\n",
       "      <td>global_rate_positive_words</td>\n",
       "      <td>0.031867</td>\n",
       "    </tr>\n",
       "    <tr>\n",
       "      <th>16</th>\n",
       "      <td>weekday_is_tuesday</td>\n",
       "      <td>0.031628</td>\n",
       "    </tr>\n",
       "    <tr>\n",
       "      <th>17</th>\n",
       "      <td>global_subjectivity</td>\n",
       "      <td>0.031485</td>\n",
       "    </tr>\n",
       "    <tr>\n",
       "      <th>18</th>\n",
       "      <td>average_token_length</td>\n",
       "      <td>0.031473</td>\n",
       "    </tr>\n",
       "    <tr>\n",
       "      <th>19</th>\n",
       "      <td>global_sentiment_polarity</td>\n",
       "      <td>0.031375</td>\n",
       "    </tr>\n",
       "    <tr>\n",
       "      <th>20</th>\n",
       "      <td>title_subjectivity</td>\n",
       "      <td>0.030952</td>\n",
       "    </tr>\n",
       "    <tr>\n",
       "      <th>21</th>\n",
       "      <td>avg_positive_polarity</td>\n",
       "      <td>0.030874</td>\n",
       "    </tr>\n",
       "    <tr>\n",
       "      <th>22</th>\n",
       "      <td>avg_negative_polarity</td>\n",
       "      <td>0.030700</td>\n",
       "    </tr>\n",
       "    <tr>\n",
       "      <th>23</th>\n",
       "      <td>log_global_rate_negative_words</td>\n",
       "      <td>0.030661</td>\n",
       "    </tr>\n",
       "    <tr>\n",
       "      <th>24</th>\n",
       "      <td>all_topic</td>\n",
       "      <td>0.000000</td>\n",
       "    </tr>\n",
       "    <tr>\n",
       "      <th>25</th>\n",
       "      <td>No_word</td>\n",
       "      <td>0.000000</td>\n",
       "    </tr>\n",
       "  </tbody>\n",
       "</table>\n",
       "</div>"
      ],
      "text/plain": [
       "                           feature  importance\n",
       "0                       is_weekend    0.165930\n",
       "1                   log_kw_avg_avg    0.067677\n",
       "2   sqrt_self_reference_min_shares    0.045381\n",
       "3                weekday_is_friday    0.045237\n",
       "4                       log_LDA_04    0.044913\n",
       "5                   log_kw_max_avg    0.043312\n",
       "6                       log_LDA_00    0.039996\n",
       "7                  n_unique_tokens    0.035459\n",
       "8                   sqrt_num_hrefs    0.034720\n",
       "9         title_sentiment_polarity    0.033582\n",
       "10                      log_LDA_01    0.033433\n",
       "11             sqrt_num_self_hrefs    0.032730\n",
       "12                      log_LDA_03    0.032537\n",
       "13                      log_LDA_02    0.032078\n",
       "14             rate_positive_words    0.031998\n",
       "15      global_rate_positive_words    0.031867\n",
       "16              weekday_is_tuesday    0.031628\n",
       "17             global_subjectivity    0.031485\n",
       "18            average_token_length    0.031473\n",
       "19       global_sentiment_polarity    0.031375\n",
       "20              title_subjectivity    0.030952\n",
       "21           avg_positive_polarity    0.030874\n",
       "22           avg_negative_polarity    0.030700\n",
       "23  log_global_rate_negative_words    0.030661\n",
       "24                       all_topic    0.000000\n",
       "25                         No_word    0.000000"
      ]
     },
     "execution_count": 87,
     "metadata": {},
     "output_type": "execute_result"
    }
   ],
   "source": [
    "feature_importance_df"
   ]
  },
  {
   "cell_type": "markdown",
   "metadata": {},
   "source": [
    "## Feature selection"
   ]
  },
  {
   "cell_type": "code",
   "execution_count": 64,
   "metadata": {},
   "outputs": [
    {
     "name": "stdout",
     "output_type": "stream",
     "text": [
      "number of features:  13\n",
      "['is_weekend', 'log_kw_avg_avg', 'sqrt_self_reference_min_shares', 'log_LDA_04', 'log_kw_max_avg', 'log_LDA_00', 'n_unique_tokens', 'sqrt_num_hrefs', 'log_LDA_03', 'log_LDA_02', 'rate_positive_words', 'average_token_length', 'avg_positive_polarity']\n",
      "[0.38993797381116474, 0.3988973121984838, 0.4100620261888353, 0.41557546519641625, 0.4181943487250172, 0.42908339076498964, 0.44148862853204685, 0.44176430048242593, 0.44493452791178495, 0.44521019986216404, 0.4474155754651964, 0.447829083390765, 0.4500344589937974]\n"
     ]
    }
   ],
   "source": [
    "feature_0 = feature_importance_df.feature[0]\n",
    "xgb_clf.fit(X_train[[feature_0]], y_train)\n",
    "score_0 = accuracy_score(y_test, xgb_clf.predict(X_test[[feature_0]]))\n",
    "\n",
    "features = [feature_0]\n",
    "scores = [score_0]\n",
    "\n",
    "for feature in feature_importance_df.feature[1:]:\n",
    "    features_temp = features.copy()\n",
    "    features_temp.append(feature)\n",
    "    xgb_clf.fit(X_train[features_temp], y_train)\n",
    "    score = accuracy_score(y_test, xgb_clf.predict(X_test[features_temp]))\n",
    "    if score > max(scores):\n",
    "        features.append(feature)\n",
    "        scores.append(score)\n",
    "print('number of features: ', len(features))\n",
    "print(features)\n",
    "print(scores)"
   ]
  },
  {
   "cell_type": "code",
   "execution_count": 66,
   "metadata": {
    "scrolled": true
   },
   "outputs": [
    {
     "data": {
      "image/png": "[encoded data removed]",
      "text/plain": [
       "<Figure size 1152x576 with 1 Axes>"
      ]
     },
     "metadata": {
      "needs_background": "light"
     },
     "output_type": "display_data"
    }
   ],
   "source": [
    "fig, ax = plt.subplots(figsize=(16, 8))\n",
    "ax.plot(range(len(features)), scores, marker = '.', markersize = 20)\n",
    "ax.set_title(\"Accuracy Scores vs Features\", fontsize=18)\n",
    "ax.set_xticks(range(len(features)))\n",
    "ax.set_xticklabels(features,rotation=90)\n",
    "ax.set_xlabel(\"added feature\", fontsize=18)\n",
    "ax.set_ylabel(\"accuracy score\", fontsize=18)\n",
    "plt.savefig('xgb accuracy scores')"
   ]
  },
  {
   "cell_type": "markdown",
   "metadata": {},
   "source": [
    "## Final resut"
   ]
  },
  {
   "cell_type": "code",
   "execution_count": 67,
   "metadata": {},
   "outputs": [
    {
     "data": {
      "text/plain": [
       "13"
      ]
     },
     "execution_count": 67,
     "metadata": {},
     "output_type": "execute_result"
    }
   ],
   "source": [
    "len(features)"
   ]
  },
  {
   "cell_type": "code",
   "execution_count": 68,
   "metadata": {},
   "outputs": [
    {
     "data": {
      "text/plain": [
       "XGBClassifier(base_score=0.5, booster='gbtree', colsample_bylevel=1,\n",
       "              colsample_bynode=1, colsample_bytree=1, gamma=0, gpu_id=-1,\n",
       "              importance_type='gain', interaction_constraints='',\n",
       "              learning_rate=0.07, max_delta_step=0, max_depth=10,\n",
       "              min_child_weight=20, missing=nan, monotone_constraints='()',\n",
       "              n_estimators=200, n_jobs=0, num_parallel_tree=1,\n",
       "              objective='multi:softprob', random_state=0, reg_alpha=0,\n",
       "              reg_lambda=1, scale_pos_weight=None, subsample=1,\n",
       "              tree_method='exact', validate_parameters=1, verbosity=None)"
      ]
     },
     "execution_count": 68,
     "metadata": {},
     "output_type": "execute_result"
    }
   ],
   "source": [
    "X_train = X_train[features]\n",
    "xgb_clf"
   ]
  },
  {
   "cell_type": "code",
   "execution_count": 69,
   "metadata": {},
   "outputs": [
    {
     "data": {
      "image/png": "[encoded data removed]",
      "text/plain": [
       "<Figure size 576x720 with 1 Axes>"
      ]
     },
     "metadata": {
      "needs_background": "light"
     },
     "output_type": "display_data"
    }
   ],
   "source": [
    "model = xgb_clf\n",
    "\n",
    "model.fit(X_train, y_train)\n",
    "\n",
    "feature_importance_df = pd.DataFrame()\n",
    "feature_importance_df[\"feature\"] = features\n",
    "feature_importance_df[\"importance\"] = model.feature_importances_\n",
    "\n",
    "def display_importances(feature_importance_df_):\n",
    "    cols = feature_importance_df_[[\"feature\", \"importance\"]].groupby(\"feature\").mean().sort_values(by=\"importance\", ascending=False)[:20].index\n",
    "    best_features = feature_importance_df_.loc[feature_importance_df_.feature.isin(cols)]\n",
    "    plt.figure(figsize=(8, 10))\n",
    "    sns.barplot(x=\"importance\", y=\"feature\", data=best_features.sort_values(by=\"importance\", ascending=False))\n",
    "    plt.title('XGB Features (averaged over store predictions)')\n",
    "    plt.tight_layout()\n",
    "    plt.savefig('XGB feature impt 13 optimal features ')\n",
    "display_importances(feature_importance_df)"
   ]
  },
  {
   "cell_type": "code",
   "execution_count": 70,
   "metadata": {},
   "outputs": [
    {
     "name": "stdout",
     "output_type": "stream",
     "text": [
      "              precision    recall  f1-score   support\n",
      "\n",
      "           0       0.50      0.53      0.51      2252\n",
      "           1       0.44      0.61      0.51      2829\n",
      "           2       0.40      0.20      0.26      1599\n",
      "           3       0.23      0.05      0.08       575\n",
      "\n",
      "    accuracy                           0.45      7255\n",
      "   macro avg       0.39      0.35      0.34      7255\n",
      "weighted avg       0.43      0.45      0.42      7255\n",
      "\n",
      "auc:  0.6627588034546997\n",
      "accuracy:  0.4500344589937974\n"
     ]
    }
   ],
   "source": [
    "y_pred = model.predict(X_test[features])\n",
    "report = classification_report(y_test, y_pred)\n",
    "auc = roc_auc_score(y_test, model.predict_proba(X_test[features]), multi_class='ovr')\n",
    "accuracy = accuracy_score(y_test, y_pred)\n",
    "print(report)\n",
    "print('auc: ', auc)\n",
    "print('accuracy: ', accuracy)"
   ]
  },
  {
   "cell_type": "code",
   "execution_count": null,
   "metadata": {},
   "outputs": [],
   "source": []
  }
 ],
 "metadata": {
  "kernelspec": {
   "display_name": "Python 3",
   "language": "python",
   "name": "python3"
  },
  "language_info": {
   "codemirror_mode": {
    "name": "ipython",
    "version": 3
   },
   "file_extension": ".py",
   "mimetype": "text/x-python",
   "name": "python",
   "nbconvert_exporter": "python",
   "pygments_lexer": "ipython3",
   "version": "3.6.13"
  }
 },
 "nbformat": 4,
 "nbformat_minor": 2
}
